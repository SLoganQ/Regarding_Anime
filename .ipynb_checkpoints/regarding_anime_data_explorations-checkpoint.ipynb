{
 "cells": [
  {
   "cell_type": "code",
   "execution_count": 1,
   "metadata": {},
   "outputs": [
    {
     "data": {
      "application/javascript": [
       "\n",
       "            setTimeout(function() {\n",
       "                var nbb_cell_id = 1;\n",
       "                var nbb_unformatted_code = \"# Formatting\\n%reload_ext nb_black\";\n",
       "                var nbb_formatted_code = \"# Formatting\\n%reload_ext nb_black\";\n",
       "                var nbb_cells = Jupyter.notebook.get_cells();\n",
       "                for (var i = 0; i < nbb_cells.length; ++i) {\n",
       "                    if (nbb_cells[i].input_prompt_number == nbb_cell_id) {\n",
       "                        if (nbb_cells[i].get_text() == nbb_unformatted_code) {\n",
       "                             nbb_cells[i].set_text(nbb_formatted_code);\n",
       "                        }\n",
       "                        break;\n",
       "                    }\n",
       "                }\n",
       "            }, 500);\n",
       "            "
      ],
      "text/plain": [
       "<IPython.core.display.Javascript object>"
      ]
     },
     "metadata": {},
     "output_type": "display_data"
    }
   ],
   "source": [
    "# Formatting\n",
    "%reload_ext nb_black"
   ]
  },
  {
   "cell_type": "markdown",
   "metadata": {},
   "source": [
    "In this notebook, I will be investigating the Anime Recommendations Database. This dataset can be found on Kaggle - https://www.kaggle.com/CooperUnion/anime-recommendations-database"
   ]
  },
  {
   "cell_type": "code",
   "execution_count": 2,
   "metadata": {},
   "outputs": [
    {
     "data": {
      "application/javascript": [
       "\n",
       "            setTimeout(function() {\n",
       "                var nbb_cell_id = 2;\n",
       "                var nbb_unformatted_code = \"# Imports for dataset operations\\nimport pandas as pd\\nimport numpy as np\\n\\n# Imports for visualizing the data\\nimport seaborn as sns\\nimport matplotlib.pyplot as plt\\nfrom statsmodels.graphics.gofplots import qqplot\\n\\n# For performing stats tests\\nfrom scipy import stats\";\n",
       "                var nbb_formatted_code = \"# Imports for dataset operations\\nimport pandas as pd\\nimport numpy as np\\n\\n# Imports for visualizing the data\\nimport seaborn as sns\\nimport matplotlib.pyplot as plt\\nfrom statsmodels.graphics.gofplots import qqplot\\n\\n# For performing stats tests\\nfrom scipy import stats\";\n",
       "                var nbb_cells = Jupyter.notebook.get_cells();\n",
       "                for (var i = 0; i < nbb_cells.length; ++i) {\n",
       "                    if (nbb_cells[i].input_prompt_number == nbb_cell_id) {\n",
       "                        if (nbb_cells[i].get_text() == nbb_unformatted_code) {\n",
       "                             nbb_cells[i].set_text(nbb_formatted_code);\n",
       "                        }\n",
       "                        break;\n",
       "                    }\n",
       "                }\n",
       "            }, 500);\n",
       "            "
      ],
      "text/plain": [
       "<IPython.core.display.Javascript object>"
      ]
     },
     "metadata": {},
     "output_type": "display_data"
    }
   ],
   "source": [
    "# Imports for dataset operations\n",
    "import pandas as pd\n",
    "import numpy as np\n",
    "\n",
    "# Imports for visualizing the data\n",
    "import seaborn as sns\n",
    "import matplotlib.pyplot as plt\n",
    "from statsmodels.graphics.gofplots import qqplot\n",
    "\n",
    "# For performing stats tests\n",
    "from scipy import stats"
   ]
  },
  {
   "cell_type": "code",
   "execution_count": 3,
   "metadata": {},
   "outputs": [
    {
     "data": {
      "application/javascript": [
       "\n",
       "            setTimeout(function() {\n",
       "                var nbb_cell_id = 3;\n",
       "                var nbb_unformatted_code = \"# Formatting\\n%matplotlib inline\";\n",
       "                var nbb_formatted_code = \"# Formatting\\n%matplotlib inline\";\n",
       "                var nbb_cells = Jupyter.notebook.get_cells();\n",
       "                for (var i = 0; i < nbb_cells.length; ++i) {\n",
       "                    if (nbb_cells[i].input_prompt_number == nbb_cell_id) {\n",
       "                        if (nbb_cells[i].get_text() == nbb_unformatted_code) {\n",
       "                             nbb_cells[i].set_text(nbb_formatted_code);\n",
       "                        }\n",
       "                        break;\n",
       "                    }\n",
       "                }\n",
       "            }, 500);\n",
       "            "
      ],
      "text/plain": [
       "<IPython.core.display.Javascript object>"
      ]
     },
     "metadata": {},
     "output_type": "display_data"
    }
   ],
   "source": [
    "# Formatting\n",
    "%matplotlib inline"
   ]
  },
  {
   "cell_type": "code",
   "execution_count": 4,
   "metadata": {},
   "outputs": [
    {
     "data": {
      "application/javascript": [
       "\n",
       "            setTimeout(function() {\n",
       "                var nbb_cell_id = 4;\n",
       "                var nbb_unformatted_code = \"# Defining function for calculating the 95% confidence interval\\ndef get_95_ci(x1, x2):\\n    \\\"\\\"\\\"Calculate a 95% CI for 2 1d numpy arrays\\\"\\\"\\\"\\n    signal = x1.mean() - x2.mean()\\n    noise = np.sqrt(x1.var() / x1.size + x2.var() / x2.size)\\n\\n    ci_lo = signal - 1.96 * noise\\n    ci_hi = signal + 1.96 * noise\\n\\n    return ci_lo, ci_hi\";\n",
       "                var nbb_formatted_code = \"# Defining function for calculating the 95% confidence interval\\ndef get_95_ci(x1, x2):\\n    \\\"\\\"\\\"Calculate a 95% CI for 2 1d numpy arrays\\\"\\\"\\\"\\n    signal = x1.mean() - x2.mean()\\n    noise = np.sqrt(x1.var() / x1.size + x2.var() / x2.size)\\n\\n    ci_lo = signal - 1.96 * noise\\n    ci_hi = signal + 1.96 * noise\\n\\n    return ci_lo, ci_hi\";\n",
       "                var nbb_cells = Jupyter.notebook.get_cells();\n",
       "                for (var i = 0; i < nbb_cells.length; ++i) {\n",
       "                    if (nbb_cells[i].input_prompt_number == nbb_cell_id) {\n",
       "                        if (nbb_cells[i].get_text() == nbb_unformatted_code) {\n",
       "                             nbb_cells[i].set_text(nbb_formatted_code);\n",
       "                        }\n",
       "                        break;\n",
       "                    }\n",
       "                }\n",
       "            }, 500);\n",
       "            "
      ],
      "text/plain": [
       "<IPython.core.display.Javascript object>"
      ]
     },
     "metadata": {},
     "output_type": "display_data"
    }
   ],
   "source": [
    "# Defining function for calculating the 95% confidence interval\n",
    "def get_95_ci(x1, x2):\n",
    "    \"\"\"Calculate a 95% CI for 2 1d numpy arrays\"\"\"\n",
    "    signal = x1.mean() - x2.mean()\n",
    "    noise = np.sqrt(x1.var() / x1.size + x2.var() / x2.size)\n",
    "\n",
    "    ci_lo = signal - 1.96 * noise\n",
    "    ci_hi = signal + 1.96 * noise\n",
    "\n",
    "    return ci_lo, ci_hi"
   ]
  },
  {
   "cell_type": "code",
   "execution_count": 5,
   "metadata": {},
   "outputs": [
    {
     "data": {
      "application/javascript": [
       "\n",
       "            setTimeout(function() {\n",
       "                var nbb_cell_id = 5;\n",
       "                var nbb_unformatted_code = \"# Defining the function to estimate the effect size for the Kruskal Wallis test\\ndef effect_size_estimate_kruskal_wallis(h, n):\\n    effect_size = h / ((n ** 2 - 1) / (n + 1))\\n    return effect_size\";\n",
       "                var nbb_formatted_code = \"# Defining the function to estimate the effect size for the Kruskal Wallis test\\ndef effect_size_estimate_kruskal_wallis(h, n):\\n    effect_size = h / ((n ** 2 - 1) / (n + 1))\\n    return effect_size\";\n",
       "                var nbb_cells = Jupyter.notebook.get_cells();\n",
       "                for (var i = 0; i < nbb_cells.length; ++i) {\n",
       "                    if (nbb_cells[i].input_prompt_number == nbb_cell_id) {\n",
       "                        if (nbb_cells[i].get_text() == nbb_unformatted_code) {\n",
       "                             nbb_cells[i].set_text(nbb_formatted_code);\n",
       "                        }\n",
       "                        break;\n",
       "                    }\n",
       "                }\n",
       "            }, 500);\n",
       "            "
      ],
      "text/plain": [
       "<IPython.core.display.Javascript object>"
      ]
     },
     "metadata": {},
     "output_type": "display_data"
    }
   ],
   "source": [
    "# Defining the function to estimate the effect size for the Kruskal Wallis test\n",
    "def effect_size_estimate_kruskal_wallis(h, n):\n",
    "    effect_size = h / ((n ** 2 - 1) / (n + 1))\n",
    "    return effect_size"
   ]
  },
  {
   "cell_type": "code",
   "execution_count": 6,
   "metadata": {},
   "outputs": [
    {
     "data": {
      "application/javascript": [
       "\n",
       "            setTimeout(function() {\n",
       "                var nbb_cell_id = 6;\n",
       "                var nbb_unformatted_code = \"# Create the DataFrame and check the head of the dataset\\ndf = pd.read_csv(\\\"data/anime.csv\\\")\";\n",
       "                var nbb_formatted_code = \"# Create the DataFrame and check the head of the dataset\\ndf = pd.read_csv(\\\"data/anime.csv\\\")\";\n",
       "                var nbb_cells = Jupyter.notebook.get_cells();\n",
       "                for (var i = 0; i < nbb_cells.length; ++i) {\n",
       "                    if (nbb_cells[i].input_prompt_number == nbb_cell_id) {\n",
       "                        if (nbb_cells[i].get_text() == nbb_unformatted_code) {\n",
       "                             nbb_cells[i].set_text(nbb_formatted_code);\n",
       "                        }\n",
       "                        break;\n",
       "                    }\n",
       "                }\n",
       "            }, 500);\n",
       "            "
      ],
      "text/plain": [
       "<IPython.core.display.Javascript object>"
      ]
     },
     "metadata": {},
     "output_type": "display_data"
    }
   ],
   "source": [
    "# Create the DataFrame and check the head of the dataset\n",
    "df = pd.read_csv(\"data/anime.csv\")"
   ]
  },
  {
   "cell_type": "code",
   "execution_count": 7,
   "metadata": {},
   "outputs": [
    {
     "data": {
      "text/html": [
       "<div>\n",
       "<style scoped>\n",
       "    .dataframe tbody tr th:only-of-type {\n",
       "        vertical-align: middle;\n",
       "    }\n",
       "\n",
       "    .dataframe tbody tr th {\n",
       "        vertical-align: top;\n",
       "    }\n",
       "\n",
       "    .dataframe thead th {\n",
       "        text-align: right;\n",
       "    }\n",
       "</style>\n",
       "<table border=\"1\" class=\"dataframe\">\n",
       "  <thead>\n",
       "    <tr style=\"text-align: right;\">\n",
       "      <th></th>\n",
       "      <th>anime_id</th>\n",
       "      <th>name</th>\n",
       "      <th>genre</th>\n",
       "      <th>type</th>\n",
       "      <th>episodes</th>\n",
       "      <th>rating</th>\n",
       "      <th>members</th>\n",
       "    </tr>\n",
       "  </thead>\n",
       "  <tbody>\n",
       "    <tr>\n",
       "      <th>0</th>\n",
       "      <td>32281</td>\n",
       "      <td>Kimi no Na wa.</td>\n",
       "      <td>Drama, Romance, School, Supernatural</td>\n",
       "      <td>Movie</td>\n",
       "      <td>1</td>\n",
       "      <td>9.37</td>\n",
       "      <td>200630</td>\n",
       "    </tr>\n",
       "    <tr>\n",
       "      <th>1</th>\n",
       "      <td>5114</td>\n",
       "      <td>Fullmetal Alchemist: Brotherhood</td>\n",
       "      <td>Action, Adventure, Drama, Fantasy, Magic, Mili...</td>\n",
       "      <td>TV</td>\n",
       "      <td>64</td>\n",
       "      <td>9.26</td>\n",
       "      <td>793665</td>\n",
       "    </tr>\n",
       "    <tr>\n",
       "      <th>2</th>\n",
       "      <td>28977</td>\n",
       "      <td>Gintama°</td>\n",
       "      <td>Action, Comedy, Historical, Parody, Samurai, S...</td>\n",
       "      <td>TV</td>\n",
       "      <td>51</td>\n",
       "      <td>9.25</td>\n",
       "      <td>114262</td>\n",
       "    </tr>\n",
       "    <tr>\n",
       "      <th>3</th>\n",
       "      <td>9253</td>\n",
       "      <td>Steins;Gate</td>\n",
       "      <td>Sci-Fi, Thriller</td>\n",
       "      <td>TV</td>\n",
       "      <td>24</td>\n",
       "      <td>9.17</td>\n",
       "      <td>673572</td>\n",
       "    </tr>\n",
       "  </tbody>\n",
       "</table>\n",
       "</div>"
      ],
      "text/plain": [
       "   anime_id                              name  \\\n",
       "0     32281                    Kimi no Na wa.   \n",
       "1      5114  Fullmetal Alchemist: Brotherhood   \n",
       "2     28977                          Gintama°   \n",
       "3      9253                       Steins;Gate   \n",
       "\n",
       "                                               genre   type episodes  rating  \\\n",
       "0               Drama, Romance, School, Supernatural  Movie        1    9.37   \n",
       "1  Action, Adventure, Drama, Fantasy, Magic, Mili...     TV       64    9.26   \n",
       "2  Action, Comedy, Historical, Parody, Samurai, S...     TV       51    9.25   \n",
       "3                                   Sci-Fi, Thriller     TV       24    9.17   \n",
       "\n",
       "   members  \n",
       "0   200630  \n",
       "1   793665  \n",
       "2   114262  \n",
       "3   673572  "
      ]
     },
     "execution_count": 7,
     "metadata": {},
     "output_type": "execute_result"
    },
    {
     "data": {
      "application/javascript": [
       "\n",
       "            setTimeout(function() {\n",
       "                var nbb_cell_id = 7;\n",
       "                var nbb_unformatted_code = \"# df.sort_values(by=[\\\"rating\\\"], ascending=False)\\ndf.head(4)\";\n",
       "                var nbb_formatted_code = \"# df.sort_values(by=[\\\"rating\\\"], ascending=False)\\ndf.head(4)\";\n",
       "                var nbb_cells = Jupyter.notebook.get_cells();\n",
       "                for (var i = 0; i < nbb_cells.length; ++i) {\n",
       "                    if (nbb_cells[i].input_prompt_number == nbb_cell_id) {\n",
       "                        if (nbb_cells[i].get_text() == nbb_unformatted_code) {\n",
       "                             nbb_cells[i].set_text(nbb_formatted_code);\n",
       "                        }\n",
       "                        break;\n",
       "                    }\n",
       "                }\n",
       "            }, 500);\n",
       "            "
      ],
      "text/plain": [
       "<IPython.core.display.Javascript object>"
      ]
     },
     "metadata": {},
     "output_type": "display_data"
    }
   ],
   "source": [
    "# df.sort_values(by=[\"rating\"], ascending=False)\n",
    "df.head(4)"
   ]
  },
  {
   "cell_type": "code",
   "execution_count": 8,
   "metadata": {},
   "outputs": [
    {
     "name": "stdout",
     "output_type": "stream",
     "text": [
      "<class 'pandas.core.frame.DataFrame'>\n",
      "RangeIndex: 12294 entries, 0 to 12293\n",
      "Data columns (total 7 columns):\n",
      " #   Column    Non-Null Count  Dtype  \n",
      "---  ------    --------------  -----  \n",
      " 0   anime_id  12294 non-null  int64  \n",
      " 1   name      12294 non-null  object \n",
      " 2   genre     12232 non-null  object \n",
      " 3   type      12269 non-null  object \n",
      " 4   episodes  12294 non-null  object \n",
      " 5   rating    12064 non-null  float64\n",
      " 6   members   12294 non-null  int64  \n",
      "dtypes: float64(1), int64(2), object(4)\n",
      "memory usage: 672.5+ KB\n"
     ]
    },
    {
     "data": {
      "application/javascript": [
       "\n",
       "            setTimeout(function() {\n",
       "                var nbb_cell_id = 8;\n",
       "                var nbb_unformatted_code = \"df.info()\";\n",
       "                var nbb_formatted_code = \"df.info()\";\n",
       "                var nbb_cells = Jupyter.notebook.get_cells();\n",
       "                for (var i = 0; i < nbb_cells.length; ++i) {\n",
       "                    if (nbb_cells[i].input_prompt_number == nbb_cell_id) {\n",
       "                        if (nbb_cells[i].get_text() == nbb_unformatted_code) {\n",
       "                             nbb_cells[i].set_text(nbb_formatted_code);\n",
       "                        }\n",
       "                        break;\n",
       "                    }\n",
       "                }\n",
       "            }, 500);\n",
       "            "
      ],
      "text/plain": [
       "<IPython.core.display.Javascript object>"
      ]
     },
     "metadata": {},
     "output_type": "display_data"
    }
   ],
   "source": [
    "df.info()"
   ]
  },
  {
   "cell_type": "code",
   "execution_count": 9,
   "metadata": {},
   "outputs": [
    {
     "data": {
      "text/plain": [
       "array(['Movie', 'TV', 'OVA', 'Special', 'Music', 'ONA', nan], dtype=object)"
      ]
     },
     "execution_count": 9,
     "metadata": {},
     "output_type": "execute_result"
    },
    {
     "data": {
      "application/javascript": [
       "\n",
       "            setTimeout(function() {\n",
       "                var nbb_cell_id = 9;\n",
       "                var nbb_unformatted_code = \"df[\\\"type\\\"].unique()\";\n",
       "                var nbb_formatted_code = \"df[\\\"type\\\"].unique()\";\n",
       "                var nbb_cells = Jupyter.notebook.get_cells();\n",
       "                for (var i = 0; i < nbb_cells.length; ++i) {\n",
       "                    if (nbb_cells[i].input_prompt_number == nbb_cell_id) {\n",
       "                        if (nbb_cells[i].get_text() == nbb_unformatted_code) {\n",
       "                             nbb_cells[i].set_text(nbb_formatted_code);\n",
       "                        }\n",
       "                        break;\n",
       "                    }\n",
       "                }\n",
       "            }, 500);\n",
       "            "
      ],
      "text/plain": [
       "<IPython.core.display.Javascript object>"
      ]
     },
     "metadata": {},
     "output_type": "display_data"
    }
   ],
   "source": [
    "df[\"type\"].unique()"
   ]
  },
  {
   "cell_type": "markdown",
   "metadata": {},
   "source": [
    "Now that the data has been reviewed, it's time to zoom in to what we are interested in and try to clean up the data so it is ready for statistical testing."
   ]
  },
  {
   "cell_type": "code",
   "execution_count": 10,
   "metadata": {},
   "outputs": [
    {
     "name": "stdout",
     "output_type": "stream",
     "text": [
      "<class 'pandas.core.frame.DataFrame'>\n",
      "Int64Index: 3787 entries, 1 to 11111\n",
      "Data columns (total 7 columns):\n",
      " #   Column    Non-Null Count  Dtype  \n",
      "---  ------    --------------  -----  \n",
      " 0   anime_id  3787 non-null   int64  \n",
      " 1   name      3787 non-null   object \n",
      " 2   genre     3777 non-null   object \n",
      " 3   type      3787 non-null   object \n",
      " 4   episodes  3787 non-null   object \n",
      " 5   rating    3671 non-null   float64\n",
      " 6   members   3787 non-null   int64  \n",
      "dtypes: float64(1), int64(2), object(4)\n",
      "memory usage: 236.7+ KB\n"
     ]
    },
    {
     "data": {
      "application/javascript": [
       "\n",
       "            setTimeout(function() {\n",
       "                var nbb_cell_id = 10;\n",
       "                var nbb_unformatted_code = \"# Filter to desired type of anime for analysis\\ntv_anime = df[df[\\\"type\\\"] == \\\"TV\\\"]\\ntv_anime.info()\";\n",
       "                var nbb_formatted_code = \"# Filter to desired type of anime for analysis\\ntv_anime = df[df[\\\"type\\\"] == \\\"TV\\\"]\\ntv_anime.info()\";\n",
       "                var nbb_cells = Jupyter.notebook.get_cells();\n",
       "                for (var i = 0; i < nbb_cells.length; ++i) {\n",
       "                    if (nbb_cells[i].input_prompt_number == nbb_cell_id) {\n",
       "                        if (nbb_cells[i].get_text() == nbb_unformatted_code) {\n",
       "                             nbb_cells[i].set_text(nbb_formatted_code);\n",
       "                        }\n",
       "                        break;\n",
       "                    }\n",
       "                }\n",
       "            }, 500);\n",
       "            "
      ],
      "text/plain": [
       "<IPython.core.display.Javascript object>"
      ]
     },
     "metadata": {},
     "output_type": "display_data"
    }
   ],
   "source": [
    "# Filter to desired type of anime for analysis\n",
    "tv_anime = df[df[\"type\"] == \"TV\"]\n",
    "tv_anime.info()"
   ]
  },
  {
   "cell_type": "code",
   "execution_count": 11,
   "metadata": {},
   "outputs": [
    {
     "name": "stdout",
     "output_type": "stream",
     "text": [
      "<class 'pandas.core.frame.DataFrame'>\n",
      "Int64Index: 3671 entries, 1 to 10895\n",
      "Data columns (total 7 columns):\n",
      " #   Column    Non-Null Count  Dtype  \n",
      "---  ------    --------------  -----  \n",
      " 0   anime_id  3671 non-null   int64  \n",
      " 1   name      3671 non-null   object \n",
      " 2   genre     3668 non-null   object \n",
      " 3   type      3671 non-null   object \n",
      " 4   episodes  3671 non-null   object \n",
      " 5   rating    3671 non-null   float64\n",
      " 6   members   3671 non-null   int64  \n",
      "dtypes: float64(1), int64(2), object(4)\n",
      "memory usage: 229.4+ KB\n"
     ]
    },
    {
     "data": {
      "application/javascript": [
       "\n",
       "            setTimeout(function() {\n",
       "                var nbb_cell_id = 11;\n",
       "                var nbb_unformatted_code = \"# Remove null values\\ntv_anime = tv_anime[~tv_anime[\\\"rating\\\"].isna()]\\ntv_anime.info()\";\n",
       "                var nbb_formatted_code = \"# Remove null values\\ntv_anime = tv_anime[~tv_anime[\\\"rating\\\"].isna()]\\ntv_anime.info()\";\n",
       "                var nbb_cells = Jupyter.notebook.get_cells();\n",
       "                for (var i = 0; i < nbb_cells.length; ++i) {\n",
       "                    if (nbb_cells[i].input_prompt_number == nbb_cell_id) {\n",
       "                        if (nbb_cells[i].get_text() == nbb_unformatted_code) {\n",
       "                             nbb_cells[i].set_text(nbb_formatted_code);\n",
       "                        }\n",
       "                        break;\n",
       "                    }\n",
       "                }\n",
       "            }, 500);\n",
       "            "
      ],
      "text/plain": [
       "<IPython.core.display.Javascript object>"
      ]
     },
     "metadata": {},
     "output_type": "display_data"
    }
   ],
   "source": [
    "# Remove null values\n",
    "tv_anime = tv_anime[~tv_anime[\"rating\"].isna()]\n",
    "tv_anime.info()"
   ]
  },
  {
   "cell_type": "code",
   "execution_count": 12,
   "metadata": {},
   "outputs": [
    {
     "name": "stdout",
     "output_type": "stream",
     "text": [
      "<class 'pandas.core.frame.DataFrame'>\n",
      "Int64Index: 3570 entries, 1 to 10895\n",
      "Data columns (total 7 columns):\n",
      " #   Column    Non-Null Count  Dtype  \n",
      "---  ------    --------------  -----  \n",
      " 0   anime_id  3570 non-null   int64  \n",
      " 1   name      3570 non-null   object \n",
      " 2   genre     3568 non-null   object \n",
      " 3   type      3570 non-null   object \n",
      " 4   episodes  3570 non-null   object \n",
      " 5   rating    3570 non-null   float64\n",
      " 6   members   3570 non-null   int64  \n",
      "dtypes: float64(1), int64(2), object(4)\n",
      "memory usage: 223.1+ KB\n"
     ]
    },
    {
     "data": {
      "application/javascript": [
       "\n",
       "            setTimeout(function() {\n",
       "                var nbb_cell_id = 12;\n",
       "                var nbb_unformatted_code = \"# Filter out anime with unknown number of episodes\\ntv_anime = tv_anime[tv_anime[\\\"episodes\\\"] != \\\"Unknown\\\"]\\ntv_anime.info()\";\n",
       "                var nbb_formatted_code = \"# Filter out anime with unknown number of episodes\\ntv_anime = tv_anime[tv_anime[\\\"episodes\\\"] != \\\"Unknown\\\"]\\ntv_anime.info()\";\n",
       "                var nbb_cells = Jupyter.notebook.get_cells();\n",
       "                for (var i = 0; i < nbb_cells.length; ++i) {\n",
       "                    if (nbb_cells[i].input_prompt_number == nbb_cell_id) {\n",
       "                        if (nbb_cells[i].get_text() == nbb_unformatted_code) {\n",
       "                             nbb_cells[i].set_text(nbb_formatted_code);\n",
       "                        }\n",
       "                        break;\n",
       "                    }\n",
       "                }\n",
       "            }, 500);\n",
       "            "
      ],
      "text/plain": [
       "<IPython.core.display.Javascript object>"
      ]
     },
     "metadata": {},
     "output_type": "display_data"
    }
   ],
   "source": [
    "# Filter out anime with unknown number of episodes\n",
    "tv_anime = tv_anime[tv_anime[\"episodes\"] != \"Unknown\"]\n",
    "tv_anime.info()"
   ]
  },
  {
   "cell_type": "code",
   "execution_count": 13,
   "metadata": {},
   "outputs": [
    {
     "data": {
      "application/javascript": [
       "\n",
       "            setTimeout(function() {\n",
       "                var nbb_cell_id = 13;\n",
       "                var nbb_unformatted_code = \"# Convert string data type into integer\\ntv_anime[\\\"episodes\\\"] = tv_anime[\\\"episodes\\\"].astype(int)\";\n",
       "                var nbb_formatted_code = \"# Convert string data type into integer\\ntv_anime[\\\"episodes\\\"] = tv_anime[\\\"episodes\\\"].astype(int)\";\n",
       "                var nbb_cells = Jupyter.notebook.get_cells();\n",
       "                for (var i = 0; i < nbb_cells.length; ++i) {\n",
       "                    if (nbb_cells[i].input_prompt_number == nbb_cell_id) {\n",
       "                        if (nbb_cells[i].get_text() == nbb_unformatted_code) {\n",
       "                             nbb_cells[i].set_text(nbb_formatted_code);\n",
       "                        }\n",
       "                        break;\n",
       "                    }\n",
       "                }\n",
       "            }, 500);\n",
       "            "
      ],
      "text/plain": [
       "<IPython.core.display.Javascript object>"
      ]
     },
     "metadata": {},
     "output_type": "display_data"
    }
   ],
   "source": [
    "# Convert string data type into integer\n",
    "tv_anime[\"episodes\"] = tv_anime[\"episodes\"].astype(int)"
   ]
  },
  {
   "cell_type": "markdown",
   "metadata": {},
   "source": [
    "Now let's check out how this data is distributed"
   ]
  },
  {
   "cell_type": "code",
   "execution_count": 14,
   "metadata": {},
   "outputs": [
    {
     "data": {
      "image/png": "[encoded data removed]",
      "text/plain": [
       "<Figure size 1296x720 with 1 Axes>"
      ]
     },
     "metadata": {
      "needs_background": "light"
     },
     "output_type": "display_data"
    },
    {
     "data": {
      "application/javascript": [
       "\n",
       "            setTimeout(function() {\n",
       "                var nbb_cell_id = 14;\n",
       "                var nbb_unformatted_code = \"# Episode count distribution\\ntv_anime[\\\"episodes\\\"].hist(figsize=(18, 10), bins=70)\\nx_ticks = np.arange(0, 1819, 26)\\nplt.xticks(x_ticks, rotation=70)\\nplt.show()\";\n",
       "                var nbb_formatted_code = \"# Episode count distribution\\ntv_anime[\\\"episodes\\\"].hist(figsize=(18, 10), bins=70)\\nx_ticks = np.arange(0, 1819, 26)\\nplt.xticks(x_ticks, rotation=70)\\nplt.show()\";\n",
       "                var nbb_cells = Jupyter.notebook.get_cells();\n",
       "                for (var i = 0; i < nbb_cells.length; ++i) {\n",
       "                    if (nbb_cells[i].input_prompt_number == nbb_cell_id) {\n",
       "                        if (nbb_cells[i].get_text() == nbb_unformatted_code) {\n",
       "                             nbb_cells[i].set_text(nbb_formatted_code);\n",
       "                        }\n",
       "                        break;\n",
       "                    }\n",
       "                }\n",
       "            }, 500);\n",
       "            "
      ],
      "text/plain": [
       "<IPython.core.display.Javascript object>"
      ]
     },
     "metadata": {},
     "output_type": "display_data"
    }
   ],
   "source": [
    "# Episode count distribution\n",
    "tv_anime[\"episodes\"].hist(figsize=(18, 10), bins=70)\n",
    "x_ticks = np.arange(0, 1819, 26)\n",
    "plt.xticks(x_ticks, rotation=70)\n",
    "plt.show()"
   ]
  },
  {
   "cell_type": "code",
   "execution_count": 15,
   "metadata": {},
   "outputs": [
    {
     "data": {
      "text/plain": [
       "1818"
      ]
     },
     "execution_count": 15,
     "metadata": {},
     "output_type": "execute_result"
    },
    {
     "data": {
      "application/javascript": [
       "\n",
       "            setTimeout(function() {\n",
       "                var nbb_cell_id = 15;\n",
       "                var nbb_unformatted_code = \"# Maximum episode count\\ntv_anime[\\\"episodes\\\"].max()\";\n",
       "                var nbb_formatted_code = \"# Maximum episode count\\ntv_anime[\\\"episodes\\\"].max()\";\n",
       "                var nbb_cells = Jupyter.notebook.get_cells();\n",
       "                for (var i = 0; i < nbb_cells.length; ++i) {\n",
       "                    if (nbb_cells[i].input_prompt_number == nbb_cell_id) {\n",
       "                        if (nbb_cells[i].get_text() == nbb_unformatted_code) {\n",
       "                             nbb_cells[i].set_text(nbb_formatted_code);\n",
       "                        }\n",
       "                        break;\n",
       "                    }\n",
       "                }\n",
       "            }, 500);\n",
       "            "
      ],
      "text/plain": [
       "<IPython.core.display.Javascript object>"
      ]
     },
     "metadata": {},
     "output_type": "display_data"
    }
   ],
   "source": [
    "# Maximum episode count\n",
    "tv_anime[\"episodes\"].max()"
   ]
  },
  {
   "cell_type": "code",
   "execution_count": 16,
   "metadata": {},
   "outputs": [
    {
     "data": {
      "image/png": "[encoded data removed]",
      "text/plain": [
       "<Figure size 720x504 with 1 Axes>"
      ]
     },
     "metadata": {
      "needs_background": "light"
     },
     "output_type": "display_data"
    },
    {
     "data": {
      "application/javascript": [
       "\n",
       "            setTimeout(function() {\n",
       "                var nbb_cell_id = 16;\n",
       "                var nbb_unformatted_code = \"# Ratings distribution\\ntv_anime[\\\"rating\\\"].hist(figsize=(10, 7), bins=31)\\nx_ticks = np.arange(0, 11, 1)\\nplt.xticks(x_ticks)\\nplt.show()\";\n",
       "                var nbb_formatted_code = \"# Ratings distribution\\ntv_anime[\\\"rating\\\"].hist(figsize=(10, 7), bins=31)\\nx_ticks = np.arange(0, 11, 1)\\nplt.xticks(x_ticks)\\nplt.show()\";\n",
       "                var nbb_cells = Jupyter.notebook.get_cells();\n",
       "                for (var i = 0; i < nbb_cells.length; ++i) {\n",
       "                    if (nbb_cells[i].input_prompt_number == nbb_cell_id) {\n",
       "                        if (nbb_cells[i].get_text() == nbb_unformatted_code) {\n",
       "                             nbb_cells[i].set_text(nbb_formatted_code);\n",
       "                        }\n",
       "                        break;\n",
       "                    }\n",
       "                }\n",
       "            }, 500);\n",
       "            "
      ],
      "text/plain": [
       "<IPython.core.display.Javascript object>"
      ]
     },
     "metadata": {},
     "output_type": "display_data"
    }
   ],
   "source": [
    "# Ratings distribution\n",
    "tv_anime[\"rating\"].hist(figsize=(10, 7), bins=31)\n",
    "x_ticks = np.arange(0, 11, 1)\n",
    "plt.xticks(x_ticks)\n",
    "plt.show()"
   ]
  },
  {
   "cell_type": "code",
   "execution_count": 17,
   "metadata": {},
   "outputs": [
    {
     "data": {
      "image/png": "[encoded data removed]",
      "text/plain": [
       "<Figure size 720x504 with 1 Axes>"
      ]
     },
     "metadata": {
      "needs_background": "light"
     },
     "output_type": "display_data"
    },
    {
     "data": {
      "application/javascript": [
       "\n",
       "            setTimeout(function() {\n",
       "                var nbb_cell_id = 17;\n",
       "                var nbb_unformatted_code = \"# Distribution for \\\"members\\\" data. On the website, you can put anime on your list.\\n# Members here mean how many people are putting that anime on their list.\\ntv_anime[\\\"members\\\"].hist(figsize=(10, 7), bins=100)\\nplt.show()\";\n",
       "                var nbb_formatted_code = \"# Distribution for \\\"members\\\" data. On the website, you can put anime on your list.\\n# Members here mean how many people are putting that anime on their list.\\ntv_anime[\\\"members\\\"].hist(figsize=(10, 7), bins=100)\\nplt.show()\";\n",
       "                var nbb_cells = Jupyter.notebook.get_cells();\n",
       "                for (var i = 0; i < nbb_cells.length; ++i) {\n",
       "                    if (nbb_cells[i].input_prompt_number == nbb_cell_id) {\n",
       "                        if (nbb_cells[i].get_text() == nbb_unformatted_code) {\n",
       "                             nbb_cells[i].set_text(nbb_formatted_code);\n",
       "                        }\n",
       "                        break;\n",
       "                    }\n",
       "                }\n",
       "            }, 500);\n",
       "            "
      ],
      "text/plain": [
       "<IPython.core.display.Javascript object>"
      ]
     },
     "metadata": {},
     "output_type": "display_data"
    }
   ],
   "source": [
    "# Distribution for \"members\" data. On the website, you can put anime on your list.\n",
    "# Members here mean how many people are putting that anime on their list.\n",
    "tv_anime[\"members\"].hist(figsize=(10, 7), bins=100)\n",
    "plt.show()"
   ]
  },
  {
   "cell_type": "code",
   "execution_count": 18,
   "metadata": {},
   "outputs": [
    {
     "data": {
      "image/png": "[encoded data removed]",
      "text/plain": [
       "<Figure size 1080x720 with 1 Axes>"
      ]
     },
     "metadata": {
      "needs_background": "light"
     },
     "output_type": "display_data"
    },
    {
     "data": {
      "application/javascript": [
       "\n",
       "            setTimeout(function() {\n",
       "                var nbb_cell_id = 18;\n",
       "                var nbb_unformatted_code = \"# Same as last graph but zooming in on data with 5000 or less members\\ntv_anime_low_members = tv_anime[tv_anime[\\\"members\\\"] <= 5000]\\ntv_anime_low_members[\\\"members\\\"].hist(figsize=(15, 10), bins=50)\\nx_ticks = np.arange(0, 5001, 100)\\nplt.xticks(x_ticks, rotation=70)\\nplt.show()\";\n",
       "                var nbb_formatted_code = \"# Same as last graph but zooming in on data with 5000 or less members\\ntv_anime_low_members = tv_anime[tv_anime[\\\"members\\\"] <= 5000]\\ntv_anime_low_members[\\\"members\\\"].hist(figsize=(15, 10), bins=50)\\nx_ticks = np.arange(0, 5001, 100)\\nplt.xticks(x_ticks, rotation=70)\\nplt.show()\";\n",
       "                var nbb_cells = Jupyter.notebook.get_cells();\n",
       "                for (var i = 0; i < nbb_cells.length; ++i) {\n",
       "                    if (nbb_cells[i].input_prompt_number == nbb_cell_id) {\n",
       "                        if (nbb_cells[i].get_text() == nbb_unformatted_code) {\n",
       "                             nbb_cells[i].set_text(nbb_formatted_code);\n",
       "                        }\n",
       "                        break;\n",
       "                    }\n",
       "                }\n",
       "            }, 500);\n",
       "            "
      ],
      "text/plain": [
       "<IPython.core.display.Javascript object>"
      ]
     },
     "metadata": {},
     "output_type": "display_data"
    }
   ],
   "source": [
    "# Same as last graph but zooming in on data with 5000 or less members\n",
    "tv_anime_low_members = tv_anime[tv_anime[\"members\"] <= 5000]\n",
    "tv_anime_low_members[\"members\"].hist(figsize=(15, 10), bins=50)\n",
    "x_ticks = np.arange(0, 5001, 100)\n",
    "plt.xticks(x_ticks, rotation=70)\n",
    "plt.show()"
   ]
  },
  {
   "cell_type": "code",
   "execution_count": 19,
   "metadata": {},
   "outputs": [
    {
     "data": {
      "image/png": "[encoded data removed]",
      "text/plain": [
       "<Figure size 432x288 with 1 Axes>"
      ]
     },
     "metadata": {
      "needs_background": "light"
     },
     "output_type": "display_data"
    },
    {
     "data": {
      "application/javascript": [
       "\n",
       "            setTimeout(function() {\n",
       "                var nbb_cell_id = 19;\n",
       "                var nbb_unformatted_code = \"# Check mean ratings for anime with low members\\nbin = 50\\nbump = 50\\nmeans = []\\nfor _ in range(10):\\n\\n    df1 = tv_anime[tv_anime[\\\"members\\\"] < bin]\\n    n1 = len(df1.index)\\n    sum1 = df1[\\\"rating\\\"].sum()\\n\\n    bin += bump\\n\\n    df2 = tv_anime[tv_anime[\\\"members\\\"] < bin]\\n    n2 = len(df2.index)\\n    sum2 = df2[\\\"rating\\\"].sum()\\n\\n    n_bin = n2 - n1\\n    sum_bin_rating = sum2 - sum1\\n\\n    mean_bin_rating = sum_bin_rating / n_bin\\n\\n    means.append(mean_bin_rating)\\n    # print(mean_bin_rating)\\n\\ndf_means = pd.DataFrame({\\\"means\\\": means})\\ndf_means[\\\"means\\\"].hist(bins=10)\\nx_ticks = np.arange(6, 7, 0.1)\\nplt.xticks(x_ticks)\\nplt.show()\";\n",
       "                var nbb_formatted_code = \"# Check mean ratings for anime with low members\\nbin = 50\\nbump = 50\\nmeans = []\\nfor _ in range(10):\\n\\n    df1 = tv_anime[tv_anime[\\\"members\\\"] < bin]\\n    n1 = len(df1.index)\\n    sum1 = df1[\\\"rating\\\"].sum()\\n\\n    bin += bump\\n\\n    df2 = tv_anime[tv_anime[\\\"members\\\"] < bin]\\n    n2 = len(df2.index)\\n    sum2 = df2[\\\"rating\\\"].sum()\\n\\n    n_bin = n2 - n1\\n    sum_bin_rating = sum2 - sum1\\n\\n    mean_bin_rating = sum_bin_rating / n_bin\\n\\n    means.append(mean_bin_rating)\\n    # print(mean_bin_rating)\\n\\ndf_means = pd.DataFrame({\\\"means\\\": means})\\ndf_means[\\\"means\\\"].hist(bins=10)\\nx_ticks = np.arange(6, 7, 0.1)\\nplt.xticks(x_ticks)\\nplt.show()\";\n",
       "                var nbb_cells = Jupyter.notebook.get_cells();\n",
       "                for (var i = 0; i < nbb_cells.length; ++i) {\n",
       "                    if (nbb_cells[i].input_prompt_number == nbb_cell_id) {\n",
       "                        if (nbb_cells[i].get_text() == nbb_unformatted_code) {\n",
       "                             nbb_cells[i].set_text(nbb_formatted_code);\n",
       "                        }\n",
       "                        break;\n",
       "                    }\n",
       "                }\n",
       "            }, 500);\n",
       "            "
      ],
      "text/plain": [
       "<IPython.core.display.Javascript object>"
      ]
     },
     "metadata": {},
     "output_type": "display_data"
    }
   ],
   "source": [
    "# Check mean ratings for anime with low members\n",
    "bin = 50\n",
    "bump = 50\n",
    "means = []\n",
    "for _ in range(10):\n",
    "\n",
    "    df1 = tv_anime[tv_anime[\"members\"] < bin]\n",
    "    n1 = len(df1.index)\n",
    "    sum1 = df1[\"rating\"].sum()\n",
    "\n",
    "    bin += bump\n",
    "\n",
    "    df2 = tv_anime[tv_anime[\"members\"] < bin]\n",
    "    n2 = len(df2.index)\n",
    "    sum2 = df2[\"rating\"].sum()\n",
    "\n",
    "    n_bin = n2 - n1\n",
    "    sum_bin_rating = sum2 - sum1\n",
    "\n",
    "    mean_bin_rating = sum_bin_rating / n_bin\n",
    "\n",
    "    means.append(mean_bin_rating)\n",
    "    # print(mean_bin_rating)\n",
    "\n",
    "df_means = pd.DataFrame({\"means\": means})\n",
    "df_means[\"means\"].hist(bins=10)\n",
    "x_ticks = np.arange(6, 7, 0.1)\n",
    "plt.xticks(x_ticks)\n",
    "plt.show()"
   ]
  },
  {
   "cell_type": "markdown",
   "metadata": {},
   "source": [
    "Recommed that anime with less than 500 members be removed from data before analysis because the rating data for anime with a small number of members may not represent the majority of the anime watching communities opinion on the anime."
   ]
  },
  {
   "cell_type": "code",
   "execution_count": 20,
   "metadata": {},
   "outputs": [
    {
     "name": "stdout",
     "output_type": "stream",
     "text": [
      "<class 'pandas.core.frame.DataFrame'>\n",
      "Int64Index: 2691 entries, 1 to 9680\n",
      "Data columns (total 7 columns):\n",
      " #   Column    Non-Null Count  Dtype  \n",
      "---  ------    --------------  -----  \n",
      " 0   anime_id  2691 non-null   int64  \n",
      " 1   name      2691 non-null   object \n",
      " 2   genre     2690 non-null   object \n",
      " 3   type      2691 non-null   object \n",
      " 4   episodes  2691 non-null   int32  \n",
      " 5   rating    2691 non-null   float64\n",
      " 6   members   2691 non-null   int64  \n",
      "dtypes: float64(1), int32(1), int64(2), object(3)\n",
      "memory usage: 157.7+ KB\n"
     ]
    },
    {
     "data": {
      "application/javascript": [
       "\n",
       "            setTimeout(function() {\n",
       "                var nbb_cell_id = 20;\n",
       "                var nbb_unformatted_code = \"# Filter out anime with less than 500 members\\ntv_anime = tv_anime[tv_anime[\\\"members\\\"] >= 500]\\ntv_anime.info()\";\n",
       "                var nbb_formatted_code = \"# Filter out anime with less than 500 members\\ntv_anime = tv_anime[tv_anime[\\\"members\\\"] >= 500]\\ntv_anime.info()\";\n",
       "                var nbb_cells = Jupyter.notebook.get_cells();\n",
       "                for (var i = 0; i < nbb_cells.length; ++i) {\n",
       "                    if (nbb_cells[i].input_prompt_number == nbb_cell_id) {\n",
       "                        if (nbb_cells[i].get_text() == nbb_unformatted_code) {\n",
       "                             nbb_cells[i].set_text(nbb_formatted_code);\n",
       "                        }\n",
       "                        break;\n",
       "                    }\n",
       "                }\n",
       "            }, 500);\n",
       "            "
      ],
      "text/plain": [
       "<IPython.core.display.Javascript object>"
      ]
     },
     "metadata": {},
     "output_type": "display_data"
    }
   ],
   "source": [
    "# Filter out anime with less than 500 members\n",
    "tv_anime = tv_anime[tv_anime[\"members\"] >= 500]\n",
    "tv_anime.info()"
   ]
  },
  {
   "cell_type": "markdown",
   "metadata": {},
   "source": [
    "At this point, I am confident that the dataset is ready for testing"
   ]
  },
  {
   "cell_type": "code",
   "execution_count": 21,
   "metadata": {},
   "outputs": [
    {
     "data": {
      "application/javascript": [
       "\n",
       "            setTimeout(function() {\n",
       "                var nbb_cell_id = 21;\n",
       "                var nbb_unformatted_code = \"# Separate groups of anime by how many episodes they have\\ntv_anime.loc[tv_anime[\\\"episodes\\\"] <= 13, \\\"one_season\\\"] = \\\"less\\\"\\ntv_anime.loc[tv_anime[\\\"episodes\\\"] > 13, \\\"one_season\\\"] = \\\"more\\\"\";\n",
       "                var nbb_formatted_code = \"# Separate groups of anime by how many episodes they have\\ntv_anime.loc[tv_anime[\\\"episodes\\\"] <= 13, \\\"one_season\\\"] = \\\"less\\\"\\ntv_anime.loc[tv_anime[\\\"episodes\\\"] > 13, \\\"one_season\\\"] = \\\"more\\\"\";\n",
       "                var nbb_cells = Jupyter.notebook.get_cells();\n",
       "                for (var i = 0; i < nbb_cells.length; ++i) {\n",
       "                    if (nbb_cells[i].input_prompt_number == nbb_cell_id) {\n",
       "                        if (nbb_cells[i].get_text() == nbb_unformatted_code) {\n",
       "                             nbb_cells[i].set_text(nbb_formatted_code);\n",
       "                        }\n",
       "                        break;\n",
       "                    }\n",
       "                }\n",
       "            }, 500);\n",
       "            "
      ],
      "text/plain": [
       "<IPython.core.display.Javascript object>"
      ]
     },
     "metadata": {},
     "output_type": "display_data"
    }
   ],
   "source": [
    "# Separate groups of anime by how many episodes they have\n",
    "tv_anime.loc[tv_anime[\"episodes\"] <= 13, \"one_season\"] = \"less\"\n",
    "tv_anime.loc[tv_anime[\"episodes\"] > 13, \"one_season\"] = \"more\""
   ]
  },
  {
   "cell_type": "code",
   "execution_count": 22,
   "metadata": {},
   "outputs": [
    {
     "data": {
      "application/javascript": [
       "\n",
       "            setTimeout(function() {\n",
       "                var nbb_cell_id = 22;\n",
       "                var nbb_unformatted_code = \"# Create variables for the two sets of data to be compared\\ntv_anime_less_ep = tv_anime[tv_anime[\\\"one_season\\\"] == \\\"less\\\"]\\ntv_anime_more_ep = tv_anime[tv_anime[\\\"one_season\\\"] == \\\"more\\\"]\";\n",
       "                var nbb_formatted_code = \"# Create variables for the two sets of data to be compared\\ntv_anime_less_ep = tv_anime[tv_anime[\\\"one_season\\\"] == \\\"less\\\"]\\ntv_anime_more_ep = tv_anime[tv_anime[\\\"one_season\\\"] == \\\"more\\\"]\";\n",
       "                var nbb_cells = Jupyter.notebook.get_cells();\n",
       "                for (var i = 0; i < nbb_cells.length; ++i) {\n",
       "                    if (nbb_cells[i].input_prompt_number == nbb_cell_id) {\n",
       "                        if (nbb_cells[i].get_text() == nbb_unformatted_code) {\n",
       "                             nbb_cells[i].set_text(nbb_formatted_code);\n",
       "                        }\n",
       "                        break;\n",
       "                    }\n",
       "                }\n",
       "            }, 500);\n",
       "            "
      ],
      "text/plain": [
       "<IPython.core.display.Javascript object>"
      ]
     },
     "metadata": {},
     "output_type": "display_data"
    }
   ],
   "source": [
    "# Create variables for the two sets of data to be compared\n",
    "tv_anime_less_ep = tv_anime[tv_anime[\"one_season\"] == \"less\"]\n",
    "tv_anime_more_ep = tv_anime[tv_anime[\"one_season\"] == \"more\"]"
   ]
  },
  {
   "cell_type": "code",
   "execution_count": 23,
   "metadata": {},
   "outputs": [
    {
     "name": "stdout",
     "output_type": "stream",
     "text": [
      "<class 'pandas.core.frame.DataFrame'>\n",
      "Int64Index: 1304 entries, 5 to 8037\n",
      "Data columns (total 8 columns):\n",
      " #   Column      Non-Null Count  Dtype  \n",
      "---  ------      --------------  -----  \n",
      " 0   anime_id    1304 non-null   int64  \n",
      " 1   name        1304 non-null   object \n",
      " 2   genre       1303 non-null   object \n",
      " 3   type        1304 non-null   object \n",
      " 4   episodes    1304 non-null   int32  \n",
      " 5   rating      1304 non-null   float64\n",
      " 6   members     1304 non-null   int64  \n",
      " 7   one_season  1304 non-null   object \n",
      "dtypes: float64(1), int32(1), int64(2), object(4)\n",
      "memory usage: 86.6+ KB\n"
     ]
    },
    {
     "data": {
      "application/javascript": [
       "\n",
       "            setTimeout(function() {\n",
       "                var nbb_cell_id = 23;\n",
       "                var nbb_unformatted_code = \"# Check info about dataset with less episodes\\ntv_anime_less_ep.info()\";\n",
       "                var nbb_formatted_code = \"# Check info about dataset with less episodes\\ntv_anime_less_ep.info()\";\n",
       "                var nbb_cells = Jupyter.notebook.get_cells();\n",
       "                for (var i = 0; i < nbb_cells.length; ++i) {\n",
       "                    if (nbb_cells[i].input_prompt_number == nbb_cell_id) {\n",
       "                        if (nbb_cells[i].get_text() == nbb_unformatted_code) {\n",
       "                             nbb_cells[i].set_text(nbb_formatted_code);\n",
       "                        }\n",
       "                        break;\n",
       "                    }\n",
       "                }\n",
       "            }, 500);\n",
       "            "
      ],
      "text/plain": [
       "<IPython.core.display.Javascript object>"
      ]
     },
     "metadata": {},
     "output_type": "display_data"
    }
   ],
   "source": [
    "# Check info about dataset with less episodes\n",
    "tv_anime_less_ep.info()"
   ]
  },
  {
   "cell_type": "code",
   "execution_count": 24,
   "metadata": {},
   "outputs": [
    {
     "name": "stdout",
     "output_type": "stream",
     "text": [
      "<class 'pandas.core.frame.DataFrame'>\n",
      "Int64Index: 1387 entries, 1 to 9680\n",
      "Data columns (total 8 columns):\n",
      " #   Column      Non-Null Count  Dtype  \n",
      "---  ------      --------------  -----  \n",
      " 0   anime_id    1387 non-null   int64  \n",
      " 1   name        1387 non-null   object \n",
      " 2   genre       1387 non-null   object \n",
      " 3   type        1387 non-null   object \n",
      " 4   episodes    1387 non-null   int32  \n",
      " 5   rating      1387 non-null   float64\n",
      " 6   members     1387 non-null   int64  \n",
      " 7   one_season  1387 non-null   object \n",
      "dtypes: float64(1), int32(1), int64(2), object(4)\n",
      "memory usage: 92.1+ KB\n"
     ]
    },
    {
     "data": {
      "application/javascript": [
       "\n",
       "            setTimeout(function() {\n",
       "                var nbb_cell_id = 24;\n",
       "                var nbb_unformatted_code = \"# Check info about dataset with more episodes\\ntv_anime_more_ep.info()\";\n",
       "                var nbb_formatted_code = \"# Check info about dataset with more episodes\\ntv_anime_more_ep.info()\";\n",
       "                var nbb_cells = Jupyter.notebook.get_cells();\n",
       "                for (var i = 0; i < nbb_cells.length; ++i) {\n",
       "                    if (nbb_cells[i].input_prompt_number == nbb_cell_id) {\n",
       "                        if (nbb_cells[i].get_text() == nbb_unformatted_code) {\n",
       "                             nbb_cells[i].set_text(nbb_formatted_code);\n",
       "                        }\n",
       "                        break;\n",
       "                    }\n",
       "                }\n",
       "            }, 500);\n",
       "            "
      ],
      "text/plain": [
       "<IPython.core.display.Javascript object>"
      ]
     },
     "metadata": {},
     "output_type": "display_data"
    }
   ],
   "source": [
    "# Check info about dataset with more episodes\n",
    "tv_anime_more_ep.info()"
   ]
  },
  {
   "cell_type": "code",
   "execution_count": 25,
   "metadata": {
    "scrolled": false
   },
   "outputs": [
    {
     "data": {
      "image/png": "[encoded data removed]",
      "text/plain": [
       "<Figure size 454.625x360 with 1 Axes>"
      ]
     },
     "metadata": {
      "needs_background": "light"
     },
     "output_type": "display_data"
    },
    {
     "data": {
      "application/javascript": [
       "\n",
       "            setTimeout(function() {\n",
       "                var nbb_cell_id = 25;\n",
       "                var nbb_unformatted_code = \"# Check out a scatterplot of episode sum vs rating, separated by one season or less vs more than one season\\nsns.relplot(x=\\\"episodes\\\", y=\\\"rating\\\", hue=\\\"one_season\\\", data=tv_anime)\\nplt.show()\";\n",
       "                var nbb_formatted_code = \"# Check out a scatterplot of episode sum vs rating, separated by one season or less vs more than one season\\nsns.relplot(x=\\\"episodes\\\", y=\\\"rating\\\", hue=\\\"one_season\\\", data=tv_anime)\\nplt.show()\";\n",
       "                var nbb_cells = Jupyter.notebook.get_cells();\n",
       "                for (var i = 0; i < nbb_cells.length; ++i) {\n",
       "                    if (nbb_cells[i].input_prompt_number == nbb_cell_id) {\n",
       "                        if (nbb_cells[i].get_text() == nbb_unformatted_code) {\n",
       "                             nbb_cells[i].set_text(nbb_formatted_code);\n",
       "                        }\n",
       "                        break;\n",
       "                    }\n",
       "                }\n",
       "            }, 500);\n",
       "            "
      ],
      "text/plain": [
       "<IPython.core.display.Javascript object>"
      ]
     },
     "metadata": {},
     "output_type": "display_data"
    }
   ],
   "source": [
    "# Check out a scatterplot of episode sum vs rating, separated by one season or less vs more than one season\n",
    "sns.relplot(x=\"episodes\", y=\"rating\", hue=\"one_season\", data=tv_anime)\n",
    "plt.show()"
   ]
  },
  {
   "cell_type": "code",
   "execution_count": 26,
   "metadata": {
    "scrolled": false
   },
   "outputs": [
    {
     "data": {
      "text/plain": [
       "<seaborn.axisgrid.FacetGrid at 0x2094136d2e8>"
      ]
     },
     "execution_count": 26,
     "metadata": {},
     "output_type": "execute_result"
    },
    {
     "data": {
      "image/png": "[encoded data removed]",
      "text/plain": [
       "<Figure size 360x360 with 1 Axes>"
      ]
     },
     "metadata": {
      "needs_background": "light"
     },
     "output_type": "display_data"
    },
    {
     "data": {
      "application/javascript": [
       "\n",
       "            setTimeout(function() {\n",
       "                var nbb_cell_id = 26;\n",
       "                var nbb_unformatted_code = \"# Do anime with higher rating also have more fans?\\n# We can look at a scatter plot of anime group members vs the animes rating\\nsns.relplot(x=\\\"members\\\", y=\\\"rating\\\", data=tv_anime)\";\n",
       "                var nbb_formatted_code = \"# Do anime with higher rating also have more fans?\\n# We can look at a scatter plot of anime group members vs the animes rating\\nsns.relplot(x=\\\"members\\\", y=\\\"rating\\\", data=tv_anime)\";\n",
       "                var nbb_cells = Jupyter.notebook.get_cells();\n",
       "                for (var i = 0; i < nbb_cells.length; ++i) {\n",
       "                    if (nbb_cells[i].input_prompt_number == nbb_cell_id) {\n",
       "                        if (nbb_cells[i].get_text() == nbb_unformatted_code) {\n",
       "                             nbb_cells[i].set_text(nbb_formatted_code);\n",
       "                        }\n",
       "                        break;\n",
       "                    }\n",
       "                }\n",
       "            }, 500);\n",
       "            "
      ],
      "text/plain": [
       "<IPython.core.display.Javascript object>"
      ]
     },
     "metadata": {},
     "output_type": "display_data"
    }
   ],
   "source": [
    "# Do anime with higher rating also have more fans?\n",
    "# We can look at a scatter plot of anime group members vs the animes rating\n",
    "sns.relplot(x=\"members\", y=\"rating\", data=tv_anime)"
   ]
  },
  {
   "cell_type": "code",
   "execution_count": 27,
   "metadata": {
    "scrolled": true
   },
   "outputs": [
    {
     "data": {
      "image/png": "[encoded data removed]",
      "text/plain": [
       "<Figure size 432x288 with 1 Axes>"
      ]
     },
     "metadata": {
      "needs_background": "light"
     },
     "output_type": "display_data"
    },
    {
     "data": {
      "application/javascript": [
       "\n",
       "            setTimeout(function() {\n",
       "                var nbb_cell_id = 27;\n",
       "                var nbb_unformatted_code = \"# Visualy compare distribution of both datasets\\nsns.boxplot(x=\\\"one_season\\\", y=\\\"rating\\\", data=tv_anime)\\nplt.show()\";\n",
       "                var nbb_formatted_code = \"# Visualy compare distribution of both datasets\\nsns.boxplot(x=\\\"one_season\\\", y=\\\"rating\\\", data=tv_anime)\\nplt.show()\";\n",
       "                var nbb_cells = Jupyter.notebook.get_cells();\n",
       "                for (var i = 0; i < nbb_cells.length; ++i) {\n",
       "                    if (nbb_cells[i].input_prompt_number == nbb_cell_id) {\n",
       "                        if (nbb_cells[i].get_text() == nbb_unformatted_code) {\n",
       "                             nbb_cells[i].set_text(nbb_formatted_code);\n",
       "                        }\n",
       "                        break;\n",
       "                    }\n",
       "                }\n",
       "            }, 500);\n",
       "            "
      ],
      "text/plain": [
       "<IPython.core.display.Javascript object>"
      ]
     },
     "metadata": {},
     "output_type": "display_data"
    }
   ],
   "source": [
    "# Visualy compare distribution of both datasets\n",
    "sns.boxplot(x=\"one_season\", y=\"rating\", data=tv_anime)\n",
    "plt.show()"
   ]
  },
  {
   "cell_type": "code",
   "execution_count": 28,
   "metadata": {},
   "outputs": [
    {
     "data": {
      "image/png": "[encoded data removed]",
      "text/plain": [
       "<Figure size 432x288 with 1 Axes>"
      ]
     },
     "metadata": {
      "needs_background": "light"
     },
     "output_type": "display_data"
    },
    {
     "data": {
      "application/javascript": [
       "\n",
       "            setTimeout(function() {\n",
       "                var nbb_cell_id = 28;\n",
       "                var nbb_unformatted_code = \"# Alternative visual comparison of distributions for both datasets\\nsns.violinplot(x=\\\"one_season\\\", y=\\\"rating\\\", data=tv_anime)\\nplt.show()\";\n",
       "                var nbb_formatted_code = \"# Alternative visual comparison of distributions for both datasets\\nsns.violinplot(x=\\\"one_season\\\", y=\\\"rating\\\", data=tv_anime)\\nplt.show()\";\n",
       "                var nbb_cells = Jupyter.notebook.get_cells();\n",
       "                for (var i = 0; i < nbb_cells.length; ++i) {\n",
       "                    if (nbb_cells[i].input_prompt_number == nbb_cell_id) {\n",
       "                        if (nbb_cells[i].get_text() == nbb_unformatted_code) {\n",
       "                             nbb_cells[i].set_text(nbb_formatted_code);\n",
       "                        }\n",
       "                        break;\n",
       "                    }\n",
       "                }\n",
       "            }, 500);\n",
       "            "
      ],
      "text/plain": [
       "<IPython.core.display.Javascript object>"
      ]
     },
     "metadata": {},
     "output_type": "display_data"
    }
   ],
   "source": [
    "# Alternative visual comparison of distributions for both datasets\n",
    "sns.violinplot(x=\"one_season\", y=\"rating\", data=tv_anime)\n",
    "plt.show()"
   ]
  },
  {
   "cell_type": "code",
   "execution_count": 29,
   "metadata": {},
   "outputs": [
    {
     "data": {
      "image/png": "[encoded data removed]",
      "text/plain": [
       "<Figure size 432x288 with 1 Axes>"
      ]
     },
     "metadata": {
      "needs_background": "light"
     },
     "output_type": "display_data"
    },
    {
     "data": {
      "application/javascript": [
       "\n",
       "            setTimeout(function() {\n",
       "                var nbb_cell_id = 29;\n",
       "                var nbb_unformatted_code = \"less_mean = tv_anime_less_ep[\\\"rating\\\"].mean()\\nmore_mean = tv_anime_more_ep[\\\"rating\\\"].mean()\\nplt.hist(tv_anime_less_ep[\\\"rating\\\"], alpha=0.5)\\nplt.hist(tv_anime_more_ep[\\\"rating\\\"], alpha=0.5)\\nless_mean_line = plt.axvline(less_mean, color=\\\"b\\\", linestyle=\\\"dashed\\\", linewidth=1)\\nmore_mean_line = plt.axvline(more_mean, color=\\\"r\\\", linestyle=\\\"dashed\\\", linewidth=1)\\nplt.legend(\\n    (\\n        less_mean_line,\\n        more_mean_line,\\n    ),\\n    (\\\"One or less mean\\\", \\\"more than one mean\\\"),\\n)\\nplt.title(\\\"Ratings of Anime - Less vs. More Episodes\\\")\\nplt.xlabel(\\\"Number of Anime\\\")\\nplt.ylabel(\\\"Ratings\\\")\\nplt.show()\";\n",
       "                var nbb_formatted_code = \"less_mean = tv_anime_less_ep[\\\"rating\\\"].mean()\\nmore_mean = tv_anime_more_ep[\\\"rating\\\"].mean()\\nplt.hist(tv_anime_less_ep[\\\"rating\\\"], alpha=0.5)\\nplt.hist(tv_anime_more_ep[\\\"rating\\\"], alpha=0.5)\\nless_mean_line = plt.axvline(less_mean, color=\\\"b\\\", linestyle=\\\"dashed\\\", linewidth=1)\\nmore_mean_line = plt.axvline(more_mean, color=\\\"r\\\", linestyle=\\\"dashed\\\", linewidth=1)\\nplt.legend(\\n    (\\n        less_mean_line,\\n        more_mean_line,\\n    ),\\n    (\\\"One or less mean\\\", \\\"more than one mean\\\"),\\n)\\nplt.title(\\\"Ratings of Anime - Less vs. More Episodes\\\")\\nplt.xlabel(\\\"Number of Anime\\\")\\nplt.ylabel(\\\"Ratings\\\")\\nplt.show()\";\n",
       "                var nbb_cells = Jupyter.notebook.get_cells();\n",
       "                for (var i = 0; i < nbb_cells.length; ++i) {\n",
       "                    if (nbb_cells[i].input_prompt_number == nbb_cell_id) {\n",
       "                        if (nbb_cells[i].get_text() == nbb_unformatted_code) {\n",
       "                             nbb_cells[i].set_text(nbb_formatted_code);\n",
       "                        }\n",
       "                        break;\n",
       "                    }\n",
       "                }\n",
       "            }, 500);\n",
       "            "
      ],
      "text/plain": [
       "<IPython.core.display.Javascript object>"
      ]
     },
     "metadata": {},
     "output_type": "display_data"
    }
   ],
   "source": [
    "less_mean = tv_anime_less_ep[\"rating\"].mean()\n",
    "more_mean = tv_anime_more_ep[\"rating\"].mean()\n",
    "plt.hist(tv_anime_less_ep[\"rating\"], alpha=0.5)\n",
    "plt.hist(tv_anime_more_ep[\"rating\"], alpha=0.5)\n",
    "less_mean_line = plt.axvline(less_mean, color=\"b\", linestyle=\"dashed\", linewidth=1)\n",
    "more_mean_line = plt.axvline(more_mean, color=\"r\", linestyle=\"dashed\", linewidth=1)\n",
    "plt.legend(\n",
    "    (\n",
    "        less_mean_line,\n",
    "        more_mean_line,\n",
    "    ),\n",
    "    (\"One or less mean\", \"more than one mean\"),\n",
    ")\n",
    "plt.title(\"Ratings of Anime - Less vs. More Episodes\")\n",
    "plt.xlabel(\"Number of Anime\")\n",
    "plt.ylabel(\"Ratings\")\n",
    "plt.show()"
   ]
  },
  {
   "cell_type": "code",
   "execution_count": 30,
   "metadata": {},
   "outputs": [
    {
     "name": "stdout",
     "output_type": "stream",
     "text": [
      "One Season or Less - mean = 7.0455368098159505\n",
      "More Than One Season - mean = 7.2682696467195385\n"
     ]
    },
    {
     "data": {
      "application/javascript": [
       "\n",
       "            setTimeout(function() {\n",
       "                var nbb_cell_id = 30;\n",
       "                var nbb_unformatted_code = \"print(\\n    f\\\"One Season or Less - mean = {less_mean}\\\\nMore Than One Season - mean = {more_mean}\\\"\\n)\";\n",
       "                var nbb_formatted_code = \"print(\\n    f\\\"One Season or Less - mean = {less_mean}\\\\nMore Than One Season - mean = {more_mean}\\\"\\n)\";\n",
       "                var nbb_cells = Jupyter.notebook.get_cells();\n",
       "                for (var i = 0; i < nbb_cells.length; ++i) {\n",
       "                    if (nbb_cells[i].input_prompt_number == nbb_cell_id) {\n",
       "                        if (nbb_cells[i].get_text() == nbb_unformatted_code) {\n",
       "                             nbb_cells[i].set_text(nbb_formatted_code);\n",
       "                        }\n",
       "                        break;\n",
       "                    }\n",
       "                }\n",
       "            }, 500);\n",
       "            "
      ],
      "text/plain": [
       "<IPython.core.display.Javascript object>"
      ]
     },
     "metadata": {},
     "output_type": "display_data"
    }
   ],
   "source": [
    "print(\n",
    "    f\"One Season or Less - mean = {less_mean}\\nMore Than One Season - mean = {more_mean}\"\n",
    ")"
   ]
  },
  {
   "cell_type": "code",
   "execution_count": 31,
   "metadata": {
    "scrolled": true
   },
   "outputs": [
    {
     "data": {
      "image/png": "[encoded data removed]",
      "text/plain": [
       "<Figure size 432x288 with 1 Axes>"
      ]
     },
     "metadata": {
      "needs_background": "light"
     },
     "output_type": "display_data"
    },
    {
     "data": {
      "application/javascript": [
       "\n",
       "            setTimeout(function() {\n",
       "                var nbb_cell_id = 31;\n",
       "                var nbb_unformatted_code = \"qqplot(tv_anime_less_ep[\\\"rating\\\"], line=\\\"s\\\")\\nplt.title(\\\"qqplot - One Season or Less\\\")\\nplt.show()\";\n",
       "                var nbb_formatted_code = \"qqplot(tv_anime_less_ep[\\\"rating\\\"], line=\\\"s\\\")\\nplt.title(\\\"qqplot - One Season or Less\\\")\\nplt.show()\";\n",
       "                var nbb_cells = Jupyter.notebook.get_cells();\n",
       "                for (var i = 0; i < nbb_cells.length; ++i) {\n",
       "                    if (nbb_cells[i].input_prompt_number == nbb_cell_id) {\n",
       "                        if (nbb_cells[i].get_text() == nbb_unformatted_code) {\n",
       "                             nbb_cells[i].set_text(nbb_formatted_code);\n",
       "                        }\n",
       "                        break;\n",
       "                    }\n",
       "                }\n",
       "            }, 500);\n",
       "            "
      ],
      "text/plain": [
       "<IPython.core.display.Javascript object>"
      ]
     },
     "metadata": {},
     "output_type": "display_data"
    }
   ],
   "source": [
    "qqplot(tv_anime_less_ep[\"rating\"], line=\"s\")\n",
    "plt.title(\"qqplot - One Season or Less\")\n",
    "plt.show()"
   ]
  },
  {
   "cell_type": "code",
   "execution_count": 32,
   "metadata": {},
   "outputs": [
    {
     "data": {
      "image/png": "[encoded data removed]",
      "text/plain": [
       "<Figure size 432x288 with 1 Axes>"
      ]
     },
     "metadata": {
      "needs_background": "light"
     },
     "output_type": "display_data"
    },
    {
     "data": {
      "application/javascript": [
       "\n",
       "            setTimeout(function() {\n",
       "                var nbb_cell_id = 32;\n",
       "                var nbb_unformatted_code = \"qqplot(tv_anime_more_ep[\\\"rating\\\"], line=\\\"s\\\")\\nplt.title(\\\"qqplot - More Than One Season\\\")\\nplt.show()\";\n",
       "                var nbb_formatted_code = \"qqplot(tv_anime_more_ep[\\\"rating\\\"], line=\\\"s\\\")\\nplt.title(\\\"qqplot - More Than One Season\\\")\\nplt.show()\";\n",
       "                var nbb_cells = Jupyter.notebook.get_cells();\n",
       "                for (var i = 0; i < nbb_cells.length; ++i) {\n",
       "                    if (nbb_cells[i].input_prompt_number == nbb_cell_id) {\n",
       "                        if (nbb_cells[i].get_text() == nbb_unformatted_code) {\n",
       "                             nbb_cells[i].set_text(nbb_formatted_code);\n",
       "                        }\n",
       "                        break;\n",
       "                    }\n",
       "                }\n",
       "            }, 500);\n",
       "            "
      ],
      "text/plain": [
       "<IPython.core.display.Javascript object>"
      ]
     },
     "metadata": {},
     "output_type": "display_data"
    }
   ],
   "source": [
    "qqplot(tv_anime_more_ep[\"rating\"], line=\"s\")\n",
    "plt.title(\"qqplot - More Than One Season\")\n",
    "plt.show()"
   ]
  },
  {
   "cell_type": "markdown",
   "metadata": {},
   "source": [
    "Visual inspection of the datasets indicates normal like distributions"
   ]
  },
  {
   "cell_type": "markdown",
   "metadata": {},
   "source": [
    "Now let's try quantitative testing the datasets for normal behavior"
   ]
  },
  {
   "cell_type": "code",
   "execution_count": 33,
   "metadata": {
    "scrolled": true
   },
   "outputs": [
    {
     "data": {
      "text/plain": [
       "DescribeResult(nobs=1304, minmax=(3.63, 9.15), mean=7.0455368098159505, variance=0.5537547384751564, skewness=-0.4327061859119025, kurtosis=0.8487829335495212)"
      ]
     },
     "execution_count": 33,
     "metadata": {},
     "output_type": "execute_result"
    },
    {
     "data": {
      "application/javascript": [
       "\n",
       "            setTimeout(function() {\n",
       "                var nbb_cell_id = 33;\n",
       "                var nbb_unformatted_code = \"stats.describe(tv_anime_less_ep[\\\"rating\\\"])\";\n",
       "                var nbb_formatted_code = \"stats.describe(tv_anime_less_ep[\\\"rating\\\"])\";\n",
       "                var nbb_cells = Jupyter.notebook.get_cells();\n",
       "                for (var i = 0; i < nbb_cells.length; ++i) {\n",
       "                    if (nbb_cells[i].input_prompt_number == nbb_cell_id) {\n",
       "                        if (nbb_cells[i].get_text() == nbb_unformatted_code) {\n",
       "                             nbb_cells[i].set_text(nbb_formatted_code);\n",
       "                        }\n",
       "                        break;\n",
       "                    }\n",
       "                }\n",
       "            }, 500);\n",
       "            "
      ],
      "text/plain": [
       "<IPython.core.display.Javascript object>"
      ]
     },
     "metadata": {},
     "output_type": "display_data"
    }
   ],
   "source": [
    "stats.describe(tv_anime_less_ep[\"rating\"])"
   ]
  },
  {
   "cell_type": "code",
   "execution_count": 34,
   "metadata": {},
   "outputs": [
    {
     "data": {
      "text/plain": [
       "DescribeResult(nobs=1387, minmax=(4.71, 9.26), mean=7.2682696467195385, variance=0.41555746547772504, skewness=0.12114193744773802, kurtosis=0.16180995750285154)"
      ]
     },
     "execution_count": 34,
     "metadata": {},
     "output_type": "execute_result"
    },
    {
     "data": {
      "application/javascript": [
       "\n",
       "            setTimeout(function() {\n",
       "                var nbb_cell_id = 34;\n",
       "                var nbb_unformatted_code = \"stats.describe(tv_anime_more_ep[\\\"rating\\\"])\";\n",
       "                var nbb_formatted_code = \"stats.describe(tv_anime_more_ep[\\\"rating\\\"])\";\n",
       "                var nbb_cells = Jupyter.notebook.get_cells();\n",
       "                for (var i = 0; i < nbb_cells.length; ++i) {\n",
       "                    if (nbb_cells[i].input_prompt_number == nbb_cell_id) {\n",
       "                        if (nbb_cells[i].get_text() == nbb_unformatted_code) {\n",
       "                             nbb_cells[i].set_text(nbb_formatted_code);\n",
       "                        }\n",
       "                        break;\n",
       "                    }\n",
       "                }\n",
       "            }, 500);\n",
       "            "
      ],
      "text/plain": [
       "<IPython.core.display.Javascript object>"
      ]
     },
     "metadata": {},
     "output_type": "display_data"
    }
   ],
   "source": [
    "stats.describe(tv_anime_more_ep[\"rating\"])"
   ]
  },
  {
   "cell_type": "markdown",
   "metadata": {},
   "source": [
    "The skewness and kurtosis of both datasets indicate they are normally distributed"
   ]
  },
  {
   "cell_type": "code",
   "execution_count": 35,
   "metadata": {},
   "outputs": [
    {
     "name": "stdout",
     "output_type": "stream",
     "text": [
      "Shapirio Wilk test results (W, p-value) for one_or_less: (0.9887933731079102, 1.89942870321147e-08)\n",
      "Shapirio Wilk test results (W, p-value) for more_than_one: (0.996122419834137, 0.001387166790664196)\n"
     ]
    },
    {
     "data": {
      "application/javascript": [
       "\n",
       "            setTimeout(function() {\n",
       "                var nbb_cell_id = 35;\n",
       "                var nbb_unformatted_code = \"# Shapirio wilk\\none_or_less = stats.shapiro(tv_anime_less_ep[\\\"rating\\\"])\\nmore_than_one = stats.shapiro(tv_anime_more_ep[\\\"rating\\\"])\\nprint(\\n    f\\\"Shapirio Wilk test results (W, p-value) for one_or_less: {one_or_less}\\\\nShapirio Wilk test results (W, p-value) for more_than_one: {more_than_one}\\\"\\n)\";\n",
       "                var nbb_formatted_code = \"# Shapirio wilk\\none_or_less = stats.shapiro(tv_anime_less_ep[\\\"rating\\\"])\\nmore_than_one = stats.shapiro(tv_anime_more_ep[\\\"rating\\\"])\\nprint(\\n    f\\\"Shapirio Wilk test results (W, p-value) for one_or_less: {one_or_less}\\\\nShapirio Wilk test results (W, p-value) for more_than_one: {more_than_one}\\\"\\n)\";\n",
       "                var nbb_cells = Jupyter.notebook.get_cells();\n",
       "                for (var i = 0; i < nbb_cells.length; ++i) {\n",
       "                    if (nbb_cells[i].input_prompt_number == nbb_cell_id) {\n",
       "                        if (nbb_cells[i].get_text() == nbb_unformatted_code) {\n",
       "                             nbb_cells[i].set_text(nbb_formatted_code);\n",
       "                        }\n",
       "                        break;\n",
       "                    }\n",
       "                }\n",
       "            }, 500);\n",
       "            "
      ],
      "text/plain": [
       "<IPython.core.display.Javascript object>"
      ]
     },
     "metadata": {},
     "output_type": "display_data"
    }
   ],
   "source": [
    "# Shapirio wilk\n",
    "one_or_less = stats.shapiro(tv_anime_less_ep[\"rating\"])\n",
    "more_than_one = stats.shapiro(tv_anime_more_ep[\"rating\"])\n",
    "print(\n",
    "    f\"Shapirio Wilk test results (W, p-value) for one_or_less: {one_or_less}\\nShapirio Wilk test results (W, p-value) for more_than_one: {more_than_one}\"\n",
    ")"
   ]
  },
  {
   "cell_type": "markdown",
   "metadata": {},
   "source": [
    "W is close to 1, but each p-value is far less than 0.05 So we must reject the null hypothesis of the test that the distributions are normal. "
   ]
  },
  {
   "cell_type": "code",
   "execution_count": 36,
   "metadata": {},
   "outputs": [
    {
     "name": "stdout",
     "output_type": "stream",
     "text": [
      "Variance of sample with one season or less: 0.55\n",
      "Variance of sample with more than one season: 0.42\n"
     ]
    },
    {
     "data": {
      "application/javascript": [
       "\n",
       "            setTimeout(function() {\n",
       "                var nbb_cell_id = 36;\n",
       "                var nbb_unformatted_code = \"# Simple variance comparison\\nless_ep_var = round(tv_anime_less_ep[\\\"rating\\\"].var(), 2)\\nmore_ep_var = round(tv_anime_more_ep[\\\"rating\\\"].var(), 2)\\nprint(\\n    f\\\"Variance of sample with one season or less: {less_ep_var}\\\\nVariance of sample with more than one season: {more_ep_var}\\\"\\n)\";\n",
       "                var nbb_formatted_code = \"# Simple variance comparison\\nless_ep_var = round(tv_anime_less_ep[\\\"rating\\\"].var(), 2)\\nmore_ep_var = round(tv_anime_more_ep[\\\"rating\\\"].var(), 2)\\nprint(\\n    f\\\"Variance of sample with one season or less: {less_ep_var}\\\\nVariance of sample with more than one season: {more_ep_var}\\\"\\n)\";\n",
       "                var nbb_cells = Jupyter.notebook.get_cells();\n",
       "                for (var i = 0; i < nbb_cells.length; ++i) {\n",
       "                    if (nbb_cells[i].input_prompt_number == nbb_cell_id) {\n",
       "                        if (nbb_cells[i].get_text() == nbb_unformatted_code) {\n",
       "                             nbb_cells[i].set_text(nbb_formatted_code);\n",
       "                        }\n",
       "                        break;\n",
       "                    }\n",
       "                }\n",
       "            }, 500);\n",
       "            "
      ],
      "text/plain": [
       "<IPython.core.display.Javascript object>"
      ]
     },
     "metadata": {},
     "output_type": "display_data"
    }
   ],
   "source": [
    "# Simple variance comparison\n",
    "less_ep_var = round(tv_anime_less_ep[\"rating\"].var(), 2)\n",
    "more_ep_var = round(tv_anime_more_ep[\"rating\"].var(), 2)\n",
    "print(\n",
    "    f\"Variance of sample with one season or less: {less_ep_var}\\nVariance of sample with more than one season: {more_ep_var}\"\n",
    ")"
   ]
  },
  {
   "cell_type": "code",
   "execution_count": 37,
   "metadata": {},
   "outputs": [
    {
     "name": "stdout",
     "output_type": "stream",
     "text": [
      "test_stat = 27.655888978883308, p = 1.4493017230115516e-07.\n",
      "\n",
      "Hypothesis check - Reject that null hypothesis (the samples variances are equal): True\n"
     ]
    },
    {
     "data": {
      "application/javascript": [
       "\n",
       "            setTimeout(function() {\n",
       "                var nbb_cell_id = 37;\n",
       "                var nbb_unformatted_code = \"# Barttlet test of variance similarity\\n# Null: Variances are the same\\n# Alt: Variances are different\\ntest_stat, p = stats.bartlett(tv_anime_less_ep[\\\"rating\\\"], tv_anime_more_ep[\\\"rating\\\"])\\nprint(\\n    f\\\"test_stat = {test_stat}, p = {p}.\\\\n\\\\nHypothesis check - Reject that null hypothesis (the samples variances are equal): {p < 0.05}\\\"\\n)\";\n",
       "                var nbb_formatted_code = \"# Barttlet test of variance similarity\\n# Null: Variances are the same\\n# Alt: Variances are different\\ntest_stat, p = stats.bartlett(tv_anime_less_ep[\\\"rating\\\"], tv_anime_more_ep[\\\"rating\\\"])\\nprint(\\n    f\\\"test_stat = {test_stat}, p = {p}.\\\\n\\\\nHypothesis check - Reject that null hypothesis (the samples variances are equal): {p < 0.05}\\\"\\n)\";\n",
       "                var nbb_cells = Jupyter.notebook.get_cells();\n",
       "                for (var i = 0; i < nbb_cells.length; ++i) {\n",
       "                    if (nbb_cells[i].input_prompt_number == nbb_cell_id) {\n",
       "                        if (nbb_cells[i].get_text() == nbb_unformatted_code) {\n",
       "                             nbb_cells[i].set_text(nbb_formatted_code);\n",
       "                        }\n",
       "                        break;\n",
       "                    }\n",
       "                }\n",
       "            }, 500);\n",
       "            "
      ],
      "text/plain": [
       "<IPython.core.display.Javascript object>"
      ]
     },
     "metadata": {},
     "output_type": "display_data"
    }
   ],
   "source": [
    "# Barttlet test of variance similarity\n",
    "# Null: Variances are the same\n",
    "# Alt: Variances are different\n",
    "test_stat, p = stats.bartlett(tv_anime_less_ep[\"rating\"], tv_anime_more_ep[\"rating\"])\n",
    "print(\n",
    "    f\"test_stat = {test_stat}, p = {p}.\\n\\nHypothesis check - Reject that null hypothesis (the samples variances are equal): {p < 0.05}\"\n",
    ")"
   ]
  },
  {
   "cell_type": "markdown",
   "metadata": {},
   "source": [
    "Though the Shapirio Wilk test says the distributions are not normal, every other indication says that they are normal like. The variance should be more similar for a proper t-test, as well. Lets try the t-test and then do some non-parametric testing to follow up these results."
   ]
  },
  {
   "cell_type": "code",
   "execution_count": 38,
   "metadata": {},
   "outputs": [
    {
     "name": "stdout",
     "output_type": "stream",
     "text": [
      "t = -8.312761015307844, p-value = 1.4650454811010688e-16\n"
     ]
    },
    {
     "data": {
      "application/javascript": [
       "\n",
       "            setTimeout(function() {\n",
       "                var nbb_cell_id = 38;\n",
       "                var nbb_unformatted_code = \"t, p = stats.ttest_ind(tv_anime_less_ep[\\\"rating\\\"], tv_anime_more_ep[\\\"rating\\\"])\\nprint(f\\\"t = {t}, p-value = {p}\\\")\";\n",
       "                var nbb_formatted_code = \"t, p = stats.ttest_ind(tv_anime_less_ep[\\\"rating\\\"], tv_anime_more_ep[\\\"rating\\\"])\\nprint(f\\\"t = {t}, p-value = {p}\\\")\";\n",
       "                var nbb_cells = Jupyter.notebook.get_cells();\n",
       "                for (var i = 0; i < nbb_cells.length; ++i) {\n",
       "                    if (nbb_cells[i].input_prompt_number == nbb_cell_id) {\n",
       "                        if (nbb_cells[i].get_text() == nbb_unformatted_code) {\n",
       "                             nbb_cells[i].set_text(nbb_formatted_code);\n",
       "                        }\n",
       "                        break;\n",
       "                    }\n",
       "                }\n",
       "            }, 500);\n",
       "            "
      ],
      "text/plain": [
       "<IPython.core.display.Javascript object>"
      ]
     },
     "metadata": {},
     "output_type": "display_data"
    }
   ],
   "source": [
    "t, p = stats.ttest_ind(tv_anime_less_ep[\"rating\"], tv_anime_more_ep[\"rating\"])\n",
    "print(f\"t = {t}, p-value = {p}\")"
   ]
  },
  {
   "cell_type": "code",
   "execution_count": 39,
   "metadata": {},
   "outputs": [
    {
     "data": {
      "text/plain": [
       "(-0.2754807808067292, -0.1699848930004466)"
      ]
     },
     "execution_count": 39,
     "metadata": {},
     "output_type": "execute_result"
    },
    {
     "data": {
      "application/javascript": [
       "\n",
       "            setTimeout(function() {\n",
       "                var nbb_cell_id = 39;\n",
       "                var nbb_unformatted_code = \"get_95_ci(tv_anime_less_ep[\\\"rating\\\"], tv_anime_more_ep[\\\"rating\\\"])\";\n",
       "                var nbb_formatted_code = \"get_95_ci(tv_anime_less_ep[\\\"rating\\\"], tv_anime_more_ep[\\\"rating\\\"])\";\n",
       "                var nbb_cells = Jupyter.notebook.get_cells();\n",
       "                for (var i = 0; i < nbb_cells.length; ++i) {\n",
       "                    if (nbb_cells[i].input_prompt_number == nbb_cell_id) {\n",
       "                        if (nbb_cells[i].get_text() == nbb_unformatted_code) {\n",
       "                             nbb_cells[i].set_text(nbb_formatted_code);\n",
       "                        }\n",
       "                        break;\n",
       "                    }\n",
       "                }\n",
       "            }, 500);\n",
       "            "
      ],
      "text/plain": [
       "<IPython.core.display.Javascript object>"
      ]
     },
     "metadata": {},
     "output_type": "display_data"
    }
   ],
   "source": [
    "get_95_ci(tv_anime_less_ep[\"rating\"], tv_anime_more_ep[\"rating\"])"
   ]
  },
  {
   "cell_type": "markdown",
   "metadata": {},
   "source": [
    "The results of the t-test are conclusive with a p-value far less than 0.05, that the means between the two datasets are significantly different. The 95% confidence interval suggests that we would likely see a 0.17 to 0.28 higher rating for anime series with more than one season worth of episodes."
   ]
  },
  {
   "cell_type": "markdown",
   "metadata": {},
   "source": [
    "<h1>Follow-up Non-parametric Testing</h1>"
   ]
  },
  {
   "cell_type": "code",
   "execution_count": 40,
   "metadata": {},
   "outputs": [
    {
     "name": "stdout",
     "output_type": "stream",
     "text": [
      "H = 49.95600092318219, p-value = 1.572324692676884e-12\n"
     ]
    },
    {
     "data": {
      "application/javascript": [
       "\n",
       "            setTimeout(function() {\n",
       "                var nbb_cell_id = 40;\n",
       "                var nbb_unformatted_code = \"# First check Kurskal Wallis test.\\nh, p = stats.kruskal(tv_anime_less_ep[\\\"rating\\\"], tv_anime_more_ep[\\\"rating\\\"])\\nprint(f\\\"H = {h}, p-value = {p}\\\")\";\n",
       "                var nbb_formatted_code = \"# First check Kurskal Wallis test.\\nh, p = stats.kruskal(tv_anime_less_ep[\\\"rating\\\"], tv_anime_more_ep[\\\"rating\\\"])\\nprint(f\\\"H = {h}, p-value = {p}\\\")\";\n",
       "                var nbb_cells = Jupyter.notebook.get_cells();\n",
       "                for (var i = 0; i < nbb_cells.length; ++i) {\n",
       "                    if (nbb_cells[i].input_prompt_number == nbb_cell_id) {\n",
       "                        if (nbb_cells[i].get_text() == nbb_unformatted_code) {\n",
       "                             nbb_cells[i].set_text(nbb_formatted_code);\n",
       "                        }\n",
       "                        break;\n",
       "                    }\n",
       "                }\n",
       "            }, 500);\n",
       "            "
      ],
      "text/plain": [
       "<IPython.core.display.Javascript object>"
      ]
     },
     "metadata": {},
     "output_type": "display_data"
    }
   ],
   "source": [
    "# First check Kurskal Wallis test.\n",
    "h, p = stats.kruskal(tv_anime_less_ep[\"rating\"], tv_anime_more_ep[\"rating\"])\n",
    "print(f\"H = {h}, p-value = {p}\")"
   ]
  },
  {
   "cell_type": "markdown",
   "metadata": {},
   "source": [
    "The Kurskal Wallis has identified a statistically significant difference in medians between the datasets."
   ]
  },
  {
   "cell_type": "code",
   "execution_count": 41,
   "metadata": {},
   "outputs": [
    {
     "name": "stdout",
     "output_type": "stream",
     "text": [
      "U = 761956.0, p-value = 7.863029484510281e-13\n"
     ]
    },
    {
     "data": {
      "application/javascript": [
       "\n",
       "            setTimeout(function() {\n",
       "                var nbb_cell_id = 41;\n",
       "                var nbb_unformatted_code = \"# Other non-parametric tests, Mann Whitney U.\\nu, p = stats.mannwhitneyu(tv_anime_less_ep[\\\"rating\\\"], tv_anime_more_ep[\\\"rating\\\"])\\nprint(f\\\"U = {u}, p-value = {p}\\\")\";\n",
       "                var nbb_formatted_code = \"# Other non-parametric tests, Mann Whitney U.\\nu, p = stats.mannwhitneyu(tv_anime_less_ep[\\\"rating\\\"], tv_anime_more_ep[\\\"rating\\\"])\\nprint(f\\\"U = {u}, p-value = {p}\\\")\";\n",
       "                var nbb_cells = Jupyter.notebook.get_cells();\n",
       "                for (var i = 0; i < nbb_cells.length; ++i) {\n",
       "                    if (nbb_cells[i].input_prompt_number == nbb_cell_id) {\n",
       "                        if (nbb_cells[i].get_text() == nbb_unformatted_code) {\n",
       "                             nbb_cells[i].set_text(nbb_formatted_code);\n",
       "                        }\n",
       "                        break;\n",
       "                    }\n",
       "                }\n",
       "            }, 500);\n",
       "            "
      ],
      "text/plain": [
       "<IPython.core.display.Javascript object>"
      ]
     },
     "metadata": {},
     "output_type": "display_data"
    }
   ],
   "source": [
    "# Other non-parametric tests, Mann Whitney U.\n",
    "u, p = stats.mannwhitneyu(tv_anime_less_ep[\"rating\"], tv_anime_more_ep[\"rating\"])\n",
    "print(f\"U = {u}, p-value = {p}\")"
   ]
  },
  {
   "cell_type": "markdown",
   "metadata": {},
   "source": [
    "The Mann Whitney U has identified a statistically significant difference in medians between the datasets."
   ]
  },
  {
   "cell_type": "code",
   "execution_count": 42,
   "metadata": {},
   "outputs": [
    {
     "name": "stdout",
     "output_type": "stream",
     "text": [
      "effect size estimate = 0.019\n"
     ]
    },
    {
     "data": {
      "application/javascript": [
       "\n",
       "            setTimeout(function() {\n",
       "                var nbb_cell_id = 42;\n",
       "                var nbb_unformatted_code = \"# Estimate effect size for non-parametric test, Kruskal Wallis\\nn = len(tv_anime_less_ep[\\\"rating\\\"]) + len(tv_anime_more_ep[\\\"rating\\\"])\\neffect_size = round(effect_size_estimate_kruskal_wallis(h, n), 3)\\nprint(f\\\"effect size estimate = {effect_size}\\\")\";\n",
       "                var nbb_formatted_code = \"# Estimate effect size for non-parametric test, Kruskal Wallis\\nn = len(tv_anime_less_ep[\\\"rating\\\"]) + len(tv_anime_more_ep[\\\"rating\\\"])\\neffect_size = round(effect_size_estimate_kruskal_wallis(h, n), 3)\\nprint(f\\\"effect size estimate = {effect_size}\\\")\";\n",
       "                var nbb_cells = Jupyter.notebook.get_cells();\n",
       "                for (var i = 0; i < nbb_cells.length; ++i) {\n",
       "                    if (nbb_cells[i].input_prompt_number == nbb_cell_id) {\n",
       "                        if (nbb_cells[i].get_text() == nbb_unformatted_code) {\n",
       "                             nbb_cells[i].set_text(nbb_formatted_code);\n",
       "                        }\n",
       "                        break;\n",
       "                    }\n",
       "                }\n",
       "            }, 500);\n",
       "            "
      ],
      "text/plain": [
       "<IPython.core.display.Javascript object>"
      ]
     },
     "metadata": {},
     "output_type": "display_data"
    }
   ],
   "source": [
    "# Estimate effect size for non-parametric test, Kruskal Wallis\n",
    "n = len(tv_anime_less_ep[\"rating\"]) + len(tv_anime_more_ep[\"rating\"])\n",
    "effect_size = round(effect_size_estimate_kruskal_wallis(h, n), 3)\n",
    "print(f\"effect size estimate = {effect_size}\")"
   ]
  },
  {
   "cell_type": "markdown",
   "metadata": {},
   "source": [
    "If a anime with one season or less number of episodes and a and one with more than one season were selected at random; we expect the rating of the anime with more than one season to be larger by about ~1.9%."
   ]
  },
  {
   "cell_type": "code",
   "execution_count": null,
   "metadata": {},
   "outputs": [],
   "source": [
    "# Bootstrap Confidence Interval\n",
    "median_diffs = []\n",
    "for i in range(10000):\n",
    "    sample_1 = tv_anime_less_ep[\"rating\"].sample(frac=1.0, replace=True)\n",
    "    sample_2 = tv_anime_more_ep[\"rating\"].sample(frac=1.0, replace=True)\n",
    "\n",
    "    median_diff = sample_1.median() - sample_2.median()\n",
    "    median_diffs.append(median_diff)\n",
    "\n",
    "ci_lo = round(np.percentile(median_diffs, 2.5), 3)\n",
    "ci_hi = round(np.percentile(median_diffs, 97.5), 3)\n",
    "\n",
    "plt.hist(median_diffs)\n",
    "plt.axvline(ci_lo, c=\"orange\")\n",
    "plt.axvline(ci_hi, c=\"orange\")\n",
    "plt.title(\"Bootstrap 95% Confidence Interval\")\n",
    "plt.xlabel(\"Difference Between Means\")\n",
    "plt.ylabel(\"Samples\")\n",
    "plt.show()\n",
    "\n",
    "print(f\"Confidence Interval Low = {ci_lo}, Confidence Interval High = {ci_hi}\")"
   ]
  },
  {
   "cell_type": "markdown",
   "metadata": {},
   "source": [
    "<h1>Conclusions</h1>"
   ]
  },
  {
   "cell_type": "markdown",
   "metadata": {},
   "source": [
    "Through testing the two groups against eachother with the t-test and the non-parametric tests, we can see that there is a small but statistically significant difference between the mean's and median's of the two groups."
   ]
  },
  {
   "cell_type": "markdown",
   "metadata": {},
   "source": [
    "Future Considerations: Figure out how to handle anime containing the same name like Gintama° and Gintama&#039;\n",
    "wich both have similar data except for: anime_id, name, rating, and members. Also, for a more in-depth and insightful analysis one can talke a look at the non-numerical data: genre, type, members. This data set deserves to have all the meaningful variables tested for correlations."
   ]
  }
 ],
 "metadata": {
  "kernelspec": {
   "display_name": "Python 3",
   "language": "python",
   "name": "python3"
  },
  "language_info": {
   "codemirror_mode": {
    "name": "ipython",
    "version": 3
   },
   "file_extension": ".py",
   "mimetype": "text/x-python",
   "name": "python",
   "nbconvert_exporter": "python",
   "pygments_lexer": "ipython3",
   "version": "3.7.3"
  }
 },
 "nbformat": 4,
 "nbformat_minor": 4
}
