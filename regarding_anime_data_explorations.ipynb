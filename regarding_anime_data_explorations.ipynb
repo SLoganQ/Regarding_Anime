{
 "cells": [
  {
   "cell_type": "code",
   "execution_count": 1,
   "metadata": {},
   "outputs": [
    {
     "data": {
      "application/javascript": [
       "\n",
       "            setTimeout(function() {\n",
       "                var nbb_cell_id = 1;\n",
       "                var nbb_unformatted_code = \"# Formatting\\n%reload_ext nb_black\";\n",
       "                var nbb_formatted_code = \"# Formatting\\n%reload_ext nb_black\";\n",
       "                var nbb_cells = Jupyter.notebook.get_cells();\n",
       "                for (var i = 0; i < nbb_cells.length; ++i) {\n",
       "                    if (nbb_cells[i].input_prompt_number == nbb_cell_id) {\n",
       "                        if (nbb_cells[i].get_text() == nbb_unformatted_code) {\n",
       "                             nbb_cells[i].set_text(nbb_formatted_code);\n",
       "                        }\n",
       "                        break;\n",
       "                    }\n",
       "                }\n",
       "            }, 500);\n",
       "            "
      ],
      "text/plain": [
       "<IPython.core.display.Javascript object>"
      ]
     },
     "metadata": {},
     "output_type": "display_data"
    }
   ],
   "source": [
    "# Formatting\n",
    "%reload_ext nb_black"
   ]
  },
  {
   "cell_type": "markdown",
   "metadata": {},
   "source": [
    "In this notebook, I will be investigating the Anime Recommendations Database. This dataset can be found on Kaggle - https://www.kaggle.com/CooperUnion/anime-recommendations-database"
   ]
  },
  {
   "cell_type": "code",
   "execution_count": 2,
   "metadata": {},
   "outputs": [
    {
     "data": {
      "application/javascript": [
       "\n",
       "            setTimeout(function() {\n",
       "                var nbb_cell_id = 2;\n",
       "                var nbb_unformatted_code = \"# Imports for dataset operations\\nimport pandas as pd\\nimport numpy as np\\n\\n# Imports for visualizing the data\\nimport seaborn as sns\\nimport matplotlib.pyplot as plt\\nfrom statsmodels.graphics.gofplots import qqplot\\n\\n# For performing stats tests\\nfrom scipy import stats\\nfrom statsmodels.stats.multitest import multipletests\";\n",
       "                var nbb_formatted_code = \"# Imports for dataset operations\\nimport pandas as pd\\nimport numpy as np\\n\\n# Imports for visualizing the data\\nimport seaborn as sns\\nimport matplotlib.pyplot as plt\\nfrom statsmodels.graphics.gofplots import qqplot\\n\\n# For performing stats tests\\nfrom scipy import stats\\nfrom statsmodels.stats.multitest import multipletests\";\n",
       "                var nbb_cells = Jupyter.notebook.get_cells();\n",
       "                for (var i = 0; i < nbb_cells.length; ++i) {\n",
       "                    if (nbb_cells[i].input_prompt_number == nbb_cell_id) {\n",
       "                        if (nbb_cells[i].get_text() == nbb_unformatted_code) {\n",
       "                             nbb_cells[i].set_text(nbb_formatted_code);\n",
       "                        }\n",
       "                        break;\n",
       "                    }\n",
       "                }\n",
       "            }, 500);\n",
       "            "
      ],
      "text/plain": [
       "<IPython.core.display.Javascript object>"
      ]
     },
     "metadata": {},
     "output_type": "display_data"
    }
   ],
   "source": [
    "# Imports for dataset operations\n",
    "import pandas as pd\n",
    "import numpy as np\n",
    "\n",
    "# Imports for visualizing the data\n",
    "import seaborn as sns\n",
    "import matplotlib.pyplot as plt\n",
    "from statsmodels.graphics.gofplots import qqplot\n",
    "\n",
    "# For performing stats tests\n",
    "from scipy import stats\n",
    "from statsmodels.stats.multitest import multipletests"
   ]
  },
  {
   "cell_type": "code",
   "execution_count": 3,
   "metadata": {},
   "outputs": [
    {
     "data": {
      "application/javascript": [
       "\n",
       "            setTimeout(function() {\n",
       "                var nbb_cell_id = 3;\n",
       "                var nbb_unformatted_code = \"# Formatting\\n%matplotlib inline\";\n",
       "                var nbb_formatted_code = \"# Formatting\\n%matplotlib inline\";\n",
       "                var nbb_cells = Jupyter.notebook.get_cells();\n",
       "                for (var i = 0; i < nbb_cells.length; ++i) {\n",
       "                    if (nbb_cells[i].input_prompt_number == nbb_cell_id) {\n",
       "                        if (nbb_cells[i].get_text() == nbb_unformatted_code) {\n",
       "                             nbb_cells[i].set_text(nbb_formatted_code);\n",
       "                        }\n",
       "                        break;\n",
       "                    }\n",
       "                }\n",
       "            }, 500);\n",
       "            "
      ],
      "text/plain": [
       "<IPython.core.display.Javascript object>"
      ]
     },
     "metadata": {},
     "output_type": "display_data"
    }
   ],
   "source": [
    "# Formatting\n",
    "%matplotlib inline"
   ]
  },
  {
   "cell_type": "code",
   "execution_count": 4,
   "metadata": {},
   "outputs": [
    {
     "data": {
      "application/javascript": [
       "\n",
       "            setTimeout(function() {\n",
       "                var nbb_cell_id = 4;\n",
       "                var nbb_unformatted_code = \"# Defining function for calculating the 95% confidence interval\\ndef get_95_ci(x1, x2):\\n    \\\"\\\"\\\"Calculate a 95% CI for 2 1d numpy arrays\\\"\\\"\\\"\\n    signal = x1.mean() - x2.mean()\\n    noise = np.sqrt(x1.var() / x1.size + x2.var() / x2.size)\\n\\n    ci_lo = signal - 1.96 * noise\\n    ci_hi = signal + 1.96 * noise\\n\\n    return ci_lo, ci_hi\";\n",
       "                var nbb_formatted_code = \"# Defining function for calculating the 95% confidence interval\\ndef get_95_ci(x1, x2):\\n    \\\"\\\"\\\"Calculate a 95% CI for 2 1d numpy arrays\\\"\\\"\\\"\\n    signal = x1.mean() - x2.mean()\\n    noise = np.sqrt(x1.var() / x1.size + x2.var() / x2.size)\\n\\n    ci_lo = signal - 1.96 * noise\\n    ci_hi = signal + 1.96 * noise\\n\\n    return ci_lo, ci_hi\";\n",
       "                var nbb_cells = Jupyter.notebook.get_cells();\n",
       "                for (var i = 0; i < nbb_cells.length; ++i) {\n",
       "                    if (nbb_cells[i].input_prompt_number == nbb_cell_id) {\n",
       "                        if (nbb_cells[i].get_text() == nbb_unformatted_code) {\n",
       "                             nbb_cells[i].set_text(nbb_formatted_code);\n",
       "                        }\n",
       "                        break;\n",
       "                    }\n",
       "                }\n",
       "            }, 500);\n",
       "            "
      ],
      "text/plain": [
       "<IPython.core.display.Javascript object>"
      ]
     },
     "metadata": {},
     "output_type": "display_data"
    }
   ],
   "source": [
    "# Defining function for calculating the 95% confidence interval\n",
    "def get_95_ci(x1, x2):\n",
    "    \"\"\"Calculate a 95% CI for 2 1d numpy arrays\"\"\"\n",
    "    signal = x1.mean() - x2.mean()\n",
    "    noise = np.sqrt(x1.var() / x1.size + x2.var() / x2.size)\n",
    "\n",
    "    ci_lo = signal - 1.96 * noise\n",
    "    ci_hi = signal + 1.96 * noise\n",
    "\n",
    "    return ci_lo, ci_hi"
   ]
  },
  {
   "cell_type": "code",
   "execution_count": 5,
   "metadata": {},
   "outputs": [
    {
     "data": {
      "application/javascript": [
       "\n",
       "            setTimeout(function() {\n",
       "                var nbb_cell_id = 5;\n",
       "                var nbb_unformatted_code = \"# Create the DataFrame and check the head of the dataset\\ndf = pd.read_csv(\\\"data/anime.csv\\\")\";\n",
       "                var nbb_formatted_code = \"# Create the DataFrame and check the head of the dataset\\ndf = pd.read_csv(\\\"data/anime.csv\\\")\";\n",
       "                var nbb_cells = Jupyter.notebook.get_cells();\n",
       "                for (var i = 0; i < nbb_cells.length; ++i) {\n",
       "                    if (nbb_cells[i].input_prompt_number == nbb_cell_id) {\n",
       "                        if (nbb_cells[i].get_text() == nbb_unformatted_code) {\n",
       "                             nbb_cells[i].set_text(nbb_formatted_code);\n",
       "                        }\n",
       "                        break;\n",
       "                    }\n",
       "                }\n",
       "            }, 500);\n",
       "            "
      ],
      "text/plain": [
       "<IPython.core.display.Javascript object>"
      ]
     },
     "metadata": {},
     "output_type": "display_data"
    }
   ],
   "source": [
    "# Create the DataFrame and check the head of the dataset\n",
    "df = pd.read_csv(\"data/anime.csv\")"
   ]
  },
  {
   "cell_type": "code",
   "execution_count": 6,
   "metadata": {},
   "outputs": [
    {
     "data": {
      "text/html": [
       "<div>\n",
       "<style scoped>\n",
       "    .dataframe tbody tr th:only-of-type {\n",
       "        vertical-align: middle;\n",
       "    }\n",
       "\n",
       "    .dataframe tbody tr th {\n",
       "        vertical-align: top;\n",
       "    }\n",
       "\n",
       "    .dataframe thead th {\n",
       "        text-align: right;\n",
       "    }\n",
       "</style>\n",
       "<table border=\"1\" class=\"dataframe\">\n",
       "  <thead>\n",
       "    <tr style=\"text-align: right;\">\n",
       "      <th></th>\n",
       "      <th>anime_id</th>\n",
       "      <th>name</th>\n",
       "      <th>genre</th>\n",
       "      <th>type</th>\n",
       "      <th>episodes</th>\n",
       "      <th>rating</th>\n",
       "      <th>members</th>\n",
       "    </tr>\n",
       "  </thead>\n",
       "  <tbody>\n",
       "    <tr>\n",
       "      <th>0</th>\n",
       "      <td>32281</td>\n",
       "      <td>Kimi no Na wa.</td>\n",
       "      <td>Drama, Romance, School, Supernatural</td>\n",
       "      <td>Movie</td>\n",
       "      <td>1</td>\n",
       "      <td>9.37</td>\n",
       "      <td>200630</td>\n",
       "    </tr>\n",
       "    <tr>\n",
       "      <th>1</th>\n",
       "      <td>5114</td>\n",
       "      <td>Fullmetal Alchemist: Brotherhood</td>\n",
       "      <td>Action, Adventure, Drama, Fantasy, Magic, Mili...</td>\n",
       "      <td>TV</td>\n",
       "      <td>64</td>\n",
       "      <td>9.26</td>\n",
       "      <td>793665</td>\n",
       "    </tr>\n",
       "    <tr>\n",
       "      <th>2</th>\n",
       "      <td>28977</td>\n",
       "      <td>Gintama°</td>\n",
       "      <td>Action, Comedy, Historical, Parody, Samurai, S...</td>\n",
       "      <td>TV</td>\n",
       "      <td>51</td>\n",
       "      <td>9.25</td>\n",
       "      <td>114262</td>\n",
       "    </tr>\n",
       "    <tr>\n",
       "      <th>3</th>\n",
       "      <td>9253</td>\n",
       "      <td>Steins;Gate</td>\n",
       "      <td>Sci-Fi, Thriller</td>\n",
       "      <td>TV</td>\n",
       "      <td>24</td>\n",
       "      <td>9.17</td>\n",
       "      <td>673572</td>\n",
       "    </tr>\n",
       "  </tbody>\n",
       "</table>\n",
       "</div>"
      ],
      "text/plain": [
       "   anime_id                              name  \\\n",
       "0     32281                    Kimi no Na wa.   \n",
       "1      5114  Fullmetal Alchemist: Brotherhood   \n",
       "2     28977                          Gintama°   \n",
       "3      9253                       Steins;Gate   \n",
       "\n",
       "                                               genre   type episodes  rating  \\\n",
       "0               Drama, Romance, School, Supernatural  Movie        1    9.37   \n",
       "1  Action, Adventure, Drama, Fantasy, Magic, Mili...     TV       64    9.26   \n",
       "2  Action, Comedy, Historical, Parody, Samurai, S...     TV       51    9.25   \n",
       "3                                   Sci-Fi, Thriller     TV       24    9.17   \n",
       "\n",
       "   members  \n",
       "0   200630  \n",
       "1   793665  \n",
       "2   114262  \n",
       "3   673572  "
      ]
     },
     "execution_count": 6,
     "metadata": {},
     "output_type": "execute_result"
    },
    {
     "data": {
      "application/javascript": [
       "\n",
       "            setTimeout(function() {\n",
       "                var nbb_cell_id = 6;\n",
       "                var nbb_unformatted_code = \"# df.sort_values(by=[\\\"rating\\\"], ascending=False)\\ndf.head(4)\";\n",
       "                var nbb_formatted_code = \"# df.sort_values(by=[\\\"rating\\\"], ascending=False)\\ndf.head(4)\";\n",
       "                var nbb_cells = Jupyter.notebook.get_cells();\n",
       "                for (var i = 0; i < nbb_cells.length; ++i) {\n",
       "                    if (nbb_cells[i].input_prompt_number == nbb_cell_id) {\n",
       "                        if (nbb_cells[i].get_text() == nbb_unformatted_code) {\n",
       "                             nbb_cells[i].set_text(nbb_formatted_code);\n",
       "                        }\n",
       "                        break;\n",
       "                    }\n",
       "                }\n",
       "            }, 500);\n",
       "            "
      ],
      "text/plain": [
       "<IPython.core.display.Javascript object>"
      ]
     },
     "metadata": {},
     "output_type": "display_data"
    }
   ],
   "source": [
    "# df.sort_values(by=[\"rating\"], ascending=False)\n",
    "df.head(4)"
   ]
  },
  {
   "cell_type": "code",
   "execution_count": 7,
   "metadata": {},
   "outputs": [
    {
     "name": "stdout",
     "output_type": "stream",
     "text": [
      "<class 'pandas.core.frame.DataFrame'>\n",
      "RangeIndex: 12294 entries, 0 to 12293\n",
      "Data columns (total 7 columns):\n",
      " #   Column    Non-Null Count  Dtype  \n",
      "---  ------    --------------  -----  \n",
      " 0   anime_id  12294 non-null  int64  \n",
      " 1   name      12294 non-null  object \n",
      " 2   genre     12232 non-null  object \n",
      " 3   type      12269 non-null  object \n",
      " 4   episodes  12294 non-null  object \n",
      " 5   rating    12064 non-null  float64\n",
      " 6   members   12294 non-null  int64  \n",
      "dtypes: float64(1), int64(2), object(4)\n",
      "memory usage: 672.5+ KB\n"
     ]
    },
    {
     "data": {
      "application/javascript": [
       "\n",
       "            setTimeout(function() {\n",
       "                var nbb_cell_id = 7;\n",
       "                var nbb_unformatted_code = \"df.info()\";\n",
       "                var nbb_formatted_code = \"df.info()\";\n",
       "                var nbb_cells = Jupyter.notebook.get_cells();\n",
       "                for (var i = 0; i < nbb_cells.length; ++i) {\n",
       "                    if (nbb_cells[i].input_prompt_number == nbb_cell_id) {\n",
       "                        if (nbb_cells[i].get_text() == nbb_unformatted_code) {\n",
       "                             nbb_cells[i].set_text(nbb_formatted_code);\n",
       "                        }\n",
       "                        break;\n",
       "                    }\n",
       "                }\n",
       "            }, 500);\n",
       "            "
      ],
      "text/plain": [
       "<IPython.core.display.Javascript object>"
      ]
     },
     "metadata": {},
     "output_type": "display_data"
    }
   ],
   "source": [
    "df.info()"
   ]
  },
  {
   "cell_type": "code",
   "execution_count": 8,
   "metadata": {},
   "outputs": [
    {
     "data": {
      "text/plain": [
       "array(['Movie', 'TV', 'OVA', 'Special', 'Music', 'ONA', nan], dtype=object)"
      ]
     },
     "execution_count": 8,
     "metadata": {},
     "output_type": "execute_result"
    },
    {
     "data": {
      "application/javascript": [
       "\n",
       "            setTimeout(function() {\n",
       "                var nbb_cell_id = 8;\n",
       "                var nbb_unformatted_code = \"df[\\\"type\\\"].unique()\";\n",
       "                var nbb_formatted_code = \"df[\\\"type\\\"].unique()\";\n",
       "                var nbb_cells = Jupyter.notebook.get_cells();\n",
       "                for (var i = 0; i < nbb_cells.length; ++i) {\n",
       "                    if (nbb_cells[i].input_prompt_number == nbb_cell_id) {\n",
       "                        if (nbb_cells[i].get_text() == nbb_unformatted_code) {\n",
       "                             nbb_cells[i].set_text(nbb_formatted_code);\n",
       "                        }\n",
       "                        break;\n",
       "                    }\n",
       "                }\n",
       "            }, 500);\n",
       "            "
      ],
      "text/plain": [
       "<IPython.core.display.Javascript object>"
      ]
     },
     "metadata": {},
     "output_type": "display_data"
    }
   ],
   "source": [
    "df[\"type\"].unique()"
   ]
  },
  {
   "cell_type": "markdown",
   "metadata": {},
   "source": [
    "Now that the data has been reviewed, it's time to zoom in to what we are interested in and try to clean up the data so it is ready for statistical testing."
   ]
  },
  {
   "cell_type": "code",
   "execution_count": 9,
   "metadata": {},
   "outputs": [
    {
     "name": "stdout",
     "output_type": "stream",
     "text": [
      "<class 'pandas.core.frame.DataFrame'>\n",
      "Int64Index: 3787 entries, 1 to 11111\n",
      "Data columns (total 7 columns):\n",
      " #   Column    Non-Null Count  Dtype  \n",
      "---  ------    --------------  -----  \n",
      " 0   anime_id  3787 non-null   int64  \n",
      " 1   name      3787 non-null   object \n",
      " 2   genre     3777 non-null   object \n",
      " 3   type      3787 non-null   object \n",
      " 4   episodes  3787 non-null   object \n",
      " 5   rating    3671 non-null   float64\n",
      " 6   members   3787 non-null   int64  \n",
      "dtypes: float64(1), int64(2), object(4)\n",
      "memory usage: 236.7+ KB\n"
     ]
    },
    {
     "data": {
      "application/javascript": [
       "\n",
       "            setTimeout(function() {\n",
       "                var nbb_cell_id = 9;\n",
       "                var nbb_unformatted_code = \"# Filter to desired type of anime for analysis\\ntv_anime = df[df[\\\"type\\\"] == \\\"TV\\\"]\\ntv_anime.info()\";\n",
       "                var nbb_formatted_code = \"# Filter to desired type of anime for analysis\\ntv_anime = df[df[\\\"type\\\"] == \\\"TV\\\"]\\ntv_anime.info()\";\n",
       "                var nbb_cells = Jupyter.notebook.get_cells();\n",
       "                for (var i = 0; i < nbb_cells.length; ++i) {\n",
       "                    if (nbb_cells[i].input_prompt_number == nbb_cell_id) {\n",
       "                        if (nbb_cells[i].get_text() == nbb_unformatted_code) {\n",
       "                             nbb_cells[i].set_text(nbb_formatted_code);\n",
       "                        }\n",
       "                        break;\n",
       "                    }\n",
       "                }\n",
       "            }, 500);\n",
       "            "
      ],
      "text/plain": [
       "<IPython.core.display.Javascript object>"
      ]
     },
     "metadata": {},
     "output_type": "display_data"
    }
   ],
   "source": [
    "# Filter to desired type of anime for analysis\n",
    "tv_anime = df[df[\"type\"] == \"TV\"]\n",
    "tv_anime.info()"
   ]
  },
  {
   "cell_type": "code",
   "execution_count": 10,
   "metadata": {},
   "outputs": [
    {
     "name": "stdout",
     "output_type": "stream",
     "text": [
      "<class 'pandas.core.frame.DataFrame'>\n",
      "Int64Index: 3671 entries, 1 to 10895\n",
      "Data columns (total 7 columns):\n",
      " #   Column    Non-Null Count  Dtype  \n",
      "---  ------    --------------  -----  \n",
      " 0   anime_id  3671 non-null   int64  \n",
      " 1   name      3671 non-null   object \n",
      " 2   genre     3668 non-null   object \n",
      " 3   type      3671 non-null   object \n",
      " 4   episodes  3671 non-null   object \n",
      " 5   rating    3671 non-null   float64\n",
      " 6   members   3671 non-null   int64  \n",
      "dtypes: float64(1), int64(2), object(4)\n",
      "memory usage: 229.4+ KB\n"
     ]
    },
    {
     "data": {
      "application/javascript": [
       "\n",
       "            setTimeout(function() {\n",
       "                var nbb_cell_id = 10;\n",
       "                var nbb_unformatted_code = \"# Remove null values\\ntv_anime = tv_anime[~tv_anime[\\\"rating\\\"].isna()]\\ntv_anime.info()\";\n",
       "                var nbb_formatted_code = \"# Remove null values\\ntv_anime = tv_anime[~tv_anime[\\\"rating\\\"].isna()]\\ntv_anime.info()\";\n",
       "                var nbb_cells = Jupyter.notebook.get_cells();\n",
       "                for (var i = 0; i < nbb_cells.length; ++i) {\n",
       "                    if (nbb_cells[i].input_prompt_number == nbb_cell_id) {\n",
       "                        if (nbb_cells[i].get_text() == nbb_unformatted_code) {\n",
       "                             nbb_cells[i].set_text(nbb_formatted_code);\n",
       "                        }\n",
       "                        break;\n",
       "                    }\n",
       "                }\n",
       "            }, 500);\n",
       "            "
      ],
      "text/plain": [
       "<IPython.core.display.Javascript object>"
      ]
     },
     "metadata": {},
     "output_type": "display_data"
    }
   ],
   "source": [
    "# Remove null values\n",
    "tv_anime = tv_anime[~tv_anime[\"rating\"].isna()]\n",
    "tv_anime.info()"
   ]
  },
  {
   "cell_type": "code",
   "execution_count": 11,
   "metadata": {},
   "outputs": [
    {
     "name": "stdout",
     "output_type": "stream",
     "text": [
      "<class 'pandas.core.frame.DataFrame'>\n",
      "Int64Index: 3570 entries, 1 to 10895\n",
      "Data columns (total 7 columns):\n",
      " #   Column    Non-Null Count  Dtype  \n",
      "---  ------    --------------  -----  \n",
      " 0   anime_id  3570 non-null   int64  \n",
      " 1   name      3570 non-null   object \n",
      " 2   genre     3568 non-null   object \n",
      " 3   type      3570 non-null   object \n",
      " 4   episodes  3570 non-null   object \n",
      " 5   rating    3570 non-null   float64\n",
      " 6   members   3570 non-null   int64  \n",
      "dtypes: float64(1), int64(2), object(4)\n",
      "memory usage: 223.1+ KB\n"
     ]
    },
    {
     "data": {
      "application/javascript": [
       "\n",
       "            setTimeout(function() {\n",
       "                var nbb_cell_id = 11;\n",
       "                var nbb_unformatted_code = \"# Filter out anime with unknown number of episodes\\ntv_anime = tv_anime[tv_anime[\\\"episodes\\\"] != \\\"Unknown\\\"]\\ntv_anime.info()\";\n",
       "                var nbb_formatted_code = \"# Filter out anime with unknown number of episodes\\ntv_anime = tv_anime[tv_anime[\\\"episodes\\\"] != \\\"Unknown\\\"]\\ntv_anime.info()\";\n",
       "                var nbb_cells = Jupyter.notebook.get_cells();\n",
       "                for (var i = 0; i < nbb_cells.length; ++i) {\n",
       "                    if (nbb_cells[i].input_prompt_number == nbb_cell_id) {\n",
       "                        if (nbb_cells[i].get_text() == nbb_unformatted_code) {\n",
       "                             nbb_cells[i].set_text(nbb_formatted_code);\n",
       "                        }\n",
       "                        break;\n",
       "                    }\n",
       "                }\n",
       "            }, 500);\n",
       "            "
      ],
      "text/plain": [
       "<IPython.core.display.Javascript object>"
      ]
     },
     "metadata": {},
     "output_type": "display_data"
    }
   ],
   "source": [
    "# Filter out anime with unknown number of episodes\n",
    "tv_anime = tv_anime[tv_anime[\"episodes\"] != \"Unknown\"]\n",
    "tv_anime.info()"
   ]
  },
  {
   "cell_type": "code",
   "execution_count": 12,
   "metadata": {},
   "outputs": [
    {
     "data": {
      "application/javascript": [
       "\n",
       "            setTimeout(function() {\n",
       "                var nbb_cell_id = 12;\n",
       "                var nbb_unformatted_code = \"# Convert string data type into integer \\ntv_anime[\\\"episodes\\\"] = tv_anime[\\\"episodes\\\"].astype(int)\";\n",
       "                var nbb_formatted_code = \"# Convert string data type into integer\\ntv_anime[\\\"episodes\\\"] = tv_anime[\\\"episodes\\\"].astype(int)\";\n",
       "                var nbb_cells = Jupyter.notebook.get_cells();\n",
       "                for (var i = 0; i < nbb_cells.length; ++i) {\n",
       "                    if (nbb_cells[i].input_prompt_number == nbb_cell_id) {\n",
       "                        if (nbb_cells[i].get_text() == nbb_unformatted_code) {\n",
       "                             nbb_cells[i].set_text(nbb_formatted_code);\n",
       "                        }\n",
       "                        break;\n",
       "                    }\n",
       "                }\n",
       "            }, 500);\n",
       "            "
      ],
      "text/plain": [
       "<IPython.core.display.Javascript object>"
      ]
     },
     "metadata": {},
     "output_type": "display_data"
    }
   ],
   "source": [
    "# Convert string data type into integer\n",
    "tv_anime[\"episodes\"] = tv_anime[\"episodes\"].astype(int)"
   ]
  },
  {
   "cell_type": "code",
   "execution_count": 13,
   "metadata": {},
   "outputs": [
    {
     "data": {
      "image/png": "[encoded data removed]",
      "text/plain": [
       "<Figure size 1296x720 with 1 Axes>"
      ]
     },
     "metadata": {
      "needs_background": "light"
     },
     "output_type": "display_data"
    },
    {
     "data": {
      "application/javascript": [
       "\n",
       "            setTimeout(function() {\n",
       "                var nbb_cell_id = 13;\n",
       "                var nbb_unformatted_code = \"tv_anime[\\\"episodes\\\"].hist(figsize=(18, 10), bins=70)\\nx_ticks = np.arange(0, 1819, 26)\\nplt.xticks(x_ticks, rotation=70)\\nplt.show()\";\n",
       "                var nbb_formatted_code = \"tv_anime[\\\"episodes\\\"].hist(figsize=(18, 10), bins=70)\\nx_ticks = np.arange(0, 1819, 26)\\nplt.xticks(x_ticks, rotation=70)\\nplt.show()\";\n",
       "                var nbb_cells = Jupyter.notebook.get_cells();\n",
       "                for (var i = 0; i < nbb_cells.length; ++i) {\n",
       "                    if (nbb_cells[i].input_prompt_number == nbb_cell_id) {\n",
       "                        if (nbb_cells[i].get_text() == nbb_unformatted_code) {\n",
       "                             nbb_cells[i].set_text(nbb_formatted_code);\n",
       "                        }\n",
       "                        break;\n",
       "                    }\n",
       "                }\n",
       "            }, 500);\n",
       "            "
      ],
      "text/plain": [
       "<IPython.core.display.Javascript object>"
      ]
     },
     "metadata": {},
     "output_type": "display_data"
    }
   ],
   "source": [
    "tv_anime[\"episodes\"].hist(figsize=(18, 10), bins=70)\n",
    "x_ticks = np.arange(0, 1819, 26)\n",
    "plt.xticks(x_ticks, rotation=70)\n",
    "plt.show()"
   ]
  },
  {
   "cell_type": "code",
   "execution_count": 14,
   "metadata": {},
   "outputs": [
    {
     "data": {
      "text/plain": [
       "1818"
      ]
     },
     "execution_count": 14,
     "metadata": {},
     "output_type": "execute_result"
    },
    {
     "data": {
      "application/javascript": [
       "\n",
       "            setTimeout(function() {\n",
       "                var nbb_cell_id = 14;\n",
       "                var nbb_unformatted_code = \"tv_anime[\\\"episodes\\\"].max()\";\n",
       "                var nbb_formatted_code = \"tv_anime[\\\"episodes\\\"].max()\";\n",
       "                var nbb_cells = Jupyter.notebook.get_cells();\n",
       "                for (var i = 0; i < nbb_cells.length; ++i) {\n",
       "                    if (nbb_cells[i].input_prompt_number == nbb_cell_id) {\n",
       "                        if (nbb_cells[i].get_text() == nbb_unformatted_code) {\n",
       "                             nbb_cells[i].set_text(nbb_formatted_code);\n",
       "                        }\n",
       "                        break;\n",
       "                    }\n",
       "                }\n",
       "            }, 500);\n",
       "            "
      ],
      "text/plain": [
       "<IPython.core.display.Javascript object>"
      ]
     },
     "metadata": {},
     "output_type": "display_data"
    }
   ],
   "source": [
    "tv_anime[\"episodes\"].max()"
   ]
  },
  {
   "cell_type": "code",
   "execution_count": 15,
   "metadata": {},
   "outputs": [
    {
     "data": {
      "image/png": "[encoded data removed]",
      "text/plain": [
       "<Figure size 720x504 with 1 Axes>"
      ]
     },
     "metadata": {
      "needs_background": "light"
     },
     "output_type": "display_data"
    },
    {
     "data": {
      "application/javascript": [
       "\n",
       "            setTimeout(function() {\n",
       "                var nbb_cell_id = 15;\n",
       "                var nbb_unformatted_code = \"tv_anime[\\\"rating\\\"].hist(figsize=(10, 7), bins=31)\\nx_ticks = np.arange(0, 11, 1)\\nplt.xticks(x_ticks)\\nplt.show()\";\n",
       "                var nbb_formatted_code = \"tv_anime[\\\"rating\\\"].hist(figsize=(10, 7), bins=31)\\nx_ticks = np.arange(0, 11, 1)\\nplt.xticks(x_ticks)\\nplt.show()\";\n",
       "                var nbb_cells = Jupyter.notebook.get_cells();\n",
       "                for (var i = 0; i < nbb_cells.length; ++i) {\n",
       "                    if (nbb_cells[i].input_prompt_number == nbb_cell_id) {\n",
       "                        if (nbb_cells[i].get_text() == nbb_unformatted_code) {\n",
       "                             nbb_cells[i].set_text(nbb_formatted_code);\n",
       "                        }\n",
       "                        break;\n",
       "                    }\n",
       "                }\n",
       "            }, 500);\n",
       "            "
      ],
      "text/plain": [
       "<IPython.core.display.Javascript object>"
      ]
     },
     "metadata": {},
     "output_type": "display_data"
    }
   ],
   "source": [
    "tv_anime[\"rating\"].hist(figsize=(10, 7), bins=31)\n",
    "x_ticks = np.arange(0, 11, 1)\n",
    "plt.xticks(x_ticks)\n",
    "plt.show()"
   ]
  },
  {
   "cell_type": "code",
   "execution_count": 16,
   "metadata": {},
   "outputs": [
    {
     "data": {
      "image/png": "[encoded data removed]",
      "text/plain": [
       "<Figure size 720x504 with 1 Axes>"
      ]
     },
     "metadata": {
      "needs_background": "light"
     },
     "output_type": "display_data"
    },
    {
     "data": {
      "application/javascript": [
       "\n",
       "            setTimeout(function() {\n",
       "                var nbb_cell_id = 16;\n",
       "                var nbb_unformatted_code = \"tv_anime[\\\"members\\\"].hist(figsize=(10, 7), bins=100)\\nplt.show()\";\n",
       "                var nbb_formatted_code = \"tv_anime[\\\"members\\\"].hist(figsize=(10, 7), bins=100)\\nplt.show()\";\n",
       "                var nbb_cells = Jupyter.notebook.get_cells();\n",
       "                for (var i = 0; i < nbb_cells.length; ++i) {\n",
       "                    if (nbb_cells[i].input_prompt_number == nbb_cell_id) {\n",
       "                        if (nbb_cells[i].get_text() == nbb_unformatted_code) {\n",
       "                             nbb_cells[i].set_text(nbb_formatted_code);\n",
       "                        }\n",
       "                        break;\n",
       "                    }\n",
       "                }\n",
       "            }, 500);\n",
       "            "
      ],
      "text/plain": [
       "<IPython.core.display.Javascript object>"
      ]
     },
     "metadata": {},
     "output_type": "display_data"
    }
   ],
   "source": [
    "tv_anime[\"members\"].hist(figsize=(10, 7), bins=100)\n",
    "plt.show()"
   ]
  },
  {
   "cell_type": "code",
   "execution_count": 17,
   "metadata": {},
   "outputs": [
    {
     "data": {
      "image/png": "[encoded data removed]",
      "text/plain": [
       "<Figure size 1080x720 with 1 Axes>"
      ]
     },
     "metadata": {
      "needs_background": "light"
     },
     "output_type": "display_data"
    },
    {
     "data": {
      "application/javascript": [
       "\n",
       "            setTimeout(function() {\n",
       "                var nbb_cell_id = 17;\n",
       "                var nbb_unformatted_code = \"# same as last graph but zooming in on data with 5000 or less members\\ntv_anime_low_members = tv_anime[tv_anime[\\\"members\\\"] <= 5000]\\ntv_anime_low_members[\\\"members\\\"].hist(figsize=(15, 10), bins=50)\\nx_ticks = np.arange(0, 5001, 100)\\nplt.xticks(x_ticks, rotation=70)\\nplt.show()\";\n",
       "                var nbb_formatted_code = \"# same as last graph but zooming in on data with 5000 or less members\\ntv_anime_low_members = tv_anime[tv_anime[\\\"members\\\"] <= 5000]\\ntv_anime_low_members[\\\"members\\\"].hist(figsize=(15, 10), bins=50)\\nx_ticks = np.arange(0, 5001, 100)\\nplt.xticks(x_ticks, rotation=70)\\nplt.show()\";\n",
       "                var nbb_cells = Jupyter.notebook.get_cells();\n",
       "                for (var i = 0; i < nbb_cells.length; ++i) {\n",
       "                    if (nbb_cells[i].input_prompt_number == nbb_cell_id) {\n",
       "                        if (nbb_cells[i].get_text() == nbb_unformatted_code) {\n",
       "                             nbb_cells[i].set_text(nbb_formatted_code);\n",
       "                        }\n",
       "                        break;\n",
       "                    }\n",
       "                }\n",
       "            }, 500);\n",
       "            "
      ],
      "text/plain": [
       "<IPython.core.display.Javascript object>"
      ]
     },
     "metadata": {},
     "output_type": "display_data"
    }
   ],
   "source": [
    "# same as last graph but zooming in on data with 5000 or less members\n",
    "tv_anime_low_members = tv_anime[tv_anime[\"members\"] <= 5000]\n",
    "tv_anime_low_members[\"members\"].hist(figsize=(15, 10), bins=50)\n",
    "x_ticks = np.arange(0, 5001, 100)\n",
    "plt.xticks(x_ticks, rotation=70)\n",
    "plt.show()"
   ]
  },
  {
   "cell_type": "code",
   "execution_count": 18,
   "metadata": {},
   "outputs": [
    {
     "data": {
      "image/png": "[encoded data removed]",
      "text/plain": [
       "<Figure size 432x288 with 1 Axes>"
      ]
     },
     "metadata": {
      "needs_background": "light"
     },
     "output_type": "display_data"
    },
    {
     "data": {
      "application/javascript": [
       "\n",
       "            setTimeout(function() {\n",
       "                var nbb_cell_id = 18;\n",
       "                var nbb_unformatted_code = \"# check mean rating for anime with low members\\nbin = 50\\nbump = 50\\nmeans = []\\nfor _ in range(10):\\n\\n    df1 = tv_anime[tv_anime[\\\"members\\\"] < bin]\\n    n1 = len(df1.index)\\n    sum1 = df1[\\\"rating\\\"].sum()\\n\\n    bin += bump\\n\\n    df2 = tv_anime[tv_anime[\\\"members\\\"] < bin]\\n    n2 = len(df2.index)\\n    sum2 = df2[\\\"rating\\\"].sum()\\n\\n    n_bin = n2 - n1\\n    sum_bin_rating = sum2 - sum1\\n\\n    mean_bin_rating = sum_bin_rating / n_bin\\n\\n    means.append(mean_bin_rating)\\n    # print(mean_bin_rating)\\n\\ndf_means = pd.DataFrame({\\\"means\\\": means})\\ndf_means[\\\"means\\\"].hist(bins=10)\\nx_ticks = np.arange(6, 7, 0.1)\\nplt.xticks(x_ticks)\\nplt.show()\";\n",
       "                var nbb_formatted_code = \"# check mean rating for anime with low members\\nbin = 50\\nbump = 50\\nmeans = []\\nfor _ in range(10):\\n\\n    df1 = tv_anime[tv_anime[\\\"members\\\"] < bin]\\n    n1 = len(df1.index)\\n    sum1 = df1[\\\"rating\\\"].sum()\\n\\n    bin += bump\\n\\n    df2 = tv_anime[tv_anime[\\\"members\\\"] < bin]\\n    n2 = len(df2.index)\\n    sum2 = df2[\\\"rating\\\"].sum()\\n\\n    n_bin = n2 - n1\\n    sum_bin_rating = sum2 - sum1\\n\\n    mean_bin_rating = sum_bin_rating / n_bin\\n\\n    means.append(mean_bin_rating)\\n    # print(mean_bin_rating)\\n\\ndf_means = pd.DataFrame({\\\"means\\\": means})\\ndf_means[\\\"means\\\"].hist(bins=10)\\nx_ticks = np.arange(6, 7, 0.1)\\nplt.xticks(x_ticks)\\nplt.show()\";\n",
       "                var nbb_cells = Jupyter.notebook.get_cells();\n",
       "                for (var i = 0; i < nbb_cells.length; ++i) {\n",
       "                    if (nbb_cells[i].input_prompt_number == nbb_cell_id) {\n",
       "                        if (nbb_cells[i].get_text() == nbb_unformatted_code) {\n",
       "                             nbb_cells[i].set_text(nbb_formatted_code);\n",
       "                        }\n",
       "                        break;\n",
       "                    }\n",
       "                }\n",
       "            }, 500);\n",
       "            "
      ],
      "text/plain": [
       "<IPython.core.display.Javascript object>"
      ]
     },
     "metadata": {},
     "output_type": "display_data"
    }
   ],
   "source": [
    "# check mean rating for anime with low members\n",
    "bin = 50\n",
    "bump = 50\n",
    "means = []\n",
    "for _ in range(10):\n",
    "\n",
    "    df1 = tv_anime[tv_anime[\"members\"] < bin]\n",
    "    n1 = len(df1.index)\n",
    "    sum1 = df1[\"rating\"].sum()\n",
    "\n",
    "    bin += bump\n",
    "\n",
    "    df2 = tv_anime[tv_anime[\"members\"] < bin]\n",
    "    n2 = len(df2.index)\n",
    "    sum2 = df2[\"rating\"].sum()\n",
    "\n",
    "    n_bin = n2 - n1\n",
    "    sum_bin_rating = sum2 - sum1\n",
    "\n",
    "    mean_bin_rating = sum_bin_rating / n_bin\n",
    "\n",
    "    means.append(mean_bin_rating)\n",
    "    # print(mean_bin_rating)\n",
    "\n",
    "df_means = pd.DataFrame({\"means\": means})\n",
    "df_means[\"means\"].hist(bins=10)\n",
    "x_ticks = np.arange(6, 7, 0.1)\n",
    "plt.xticks(x_ticks)\n",
    "plt.show()"
   ]
  },
  {
   "cell_type": "markdown",
   "metadata": {},
   "source": [
    "Recommed that anime with less than 500 members be removed from data because "
   ]
  },
  {
   "cell_type": "code",
   "execution_count": 19,
   "metadata": {},
   "outputs": [
    {
     "data": {
      "application/javascript": [
       "\n",
       "            setTimeout(function() {\n",
       "                var nbb_cell_id = 19;\n",
       "                var nbb_unformatted_code = \"# Separate groups of anime by how many episodes they have\\n# tv_anime.loc[tv_anime[\\\"episodes\\\"].between(12, 26), \\\"one_season\\\"] = \\\"less\\\"\\ntv_anime.loc[tv_anime[\\\"episodes\\\"] <= 26, \\\"one_season\\\"] = \\\"less\\\"\\ntv_anime.loc[tv_anime[\\\"episodes\\\"] > 26, \\\"one_season\\\"] = \\\"more\\\"\";\n",
       "                var nbb_formatted_code = \"# Separate groups of anime by how many episodes they have\\n# tv_anime.loc[tv_anime[\\\"episodes\\\"].between(12, 26), \\\"one_season\\\"] = \\\"less\\\"\\ntv_anime.loc[tv_anime[\\\"episodes\\\"] <= 26, \\\"one_season\\\"] = \\\"less\\\"\\ntv_anime.loc[tv_anime[\\\"episodes\\\"] > 26, \\\"one_season\\\"] = \\\"more\\\"\";\n",
       "                var nbb_cells = Jupyter.notebook.get_cells();\n",
       "                for (var i = 0; i < nbb_cells.length; ++i) {\n",
       "                    if (nbb_cells[i].input_prompt_number == nbb_cell_id) {\n",
       "                        if (nbb_cells[i].get_text() == nbb_unformatted_code) {\n",
       "                             nbb_cells[i].set_text(nbb_formatted_code);\n",
       "                        }\n",
       "                        break;\n",
       "                    }\n",
       "                }\n",
       "            }, 500);\n",
       "            "
      ],
      "text/plain": [
       "<IPython.core.display.Javascript object>"
      ]
     },
     "metadata": {},
     "output_type": "display_data"
    }
   ],
   "source": [
    "# Separate groups of anime by how many episodes they have\n",
    "# tv_anime.loc[tv_anime[\"episodes\"].between(12, 26), \"one_season\"] = \"less\"\n",
    "tv_anime.loc[tv_anime[\"episodes\"] <= 26, \"one_season\"] = \"less\"\n",
    "tv_anime.loc[tv_anime[\"episodes\"] > 26, \"one_season\"] = \"more\""
   ]
  },
  {
   "cell_type": "code",
   "execution_count": 49,
   "metadata": {},
   "outputs": [
    {
     "data": {
      "application/javascript": [
       "\n",
       "            setTimeout(function() {\n",
       "                var nbb_cell_id = 49;\n",
       "                var nbb_unformatted_code = \"# Trying removing anime with less than 500 members\\ntv_anime = tv_anime[tv_anime[\\\"members\\\"] >= 250]\";\n",
       "                var nbb_formatted_code = \"# Trying removing anime with less than 500 members\\ntv_anime = tv_anime[tv_anime[\\\"members\\\"] >= 250]\";\n",
       "                var nbb_cells = Jupyter.notebook.get_cells();\n",
       "                for (var i = 0; i < nbb_cells.length; ++i) {\n",
       "                    if (nbb_cells[i].input_prompt_number == nbb_cell_id) {\n",
       "                        if (nbb_cells[i].get_text() == nbb_unformatted_code) {\n",
       "                             nbb_cells[i].set_text(nbb_formatted_code);\n",
       "                        }\n",
       "                        break;\n",
       "                    }\n",
       "                }\n",
       "            }, 500);\n",
       "            "
      ],
      "text/plain": [
       "<IPython.core.display.Javascript object>"
      ]
     },
     "metadata": {},
     "output_type": "display_data"
    }
   ],
   "source": [
    "# Trying removing anime with less than 500 members\n",
    "tv_anime = tv_anime[tv_anime[\"members\"] >= 250]"
   ]
  },
  {
   "cell_type": "code",
   "execution_count": 50,
   "metadata": {},
   "outputs": [
    {
     "data": {
      "application/javascript": [
       "\n",
       "            setTimeout(function() {\n",
       "                var nbb_cell_id = 50;\n",
       "                var nbb_unformatted_code = \"tv_anime_less_ep = tv_anime[tv_anime[\\\"one_season\\\"] == \\\"less\\\"]\\ntv_anime_more_ep = tv_anime[tv_anime[\\\"one_season\\\"] == \\\"more\\\"]\";\n",
       "                var nbb_formatted_code = \"tv_anime_less_ep = tv_anime[tv_anime[\\\"one_season\\\"] == \\\"less\\\"]\\ntv_anime_more_ep = tv_anime[tv_anime[\\\"one_season\\\"] == \\\"more\\\"]\";\n",
       "                var nbb_cells = Jupyter.notebook.get_cells();\n",
       "                for (var i = 0; i < nbb_cells.length; ++i) {\n",
       "                    if (nbb_cells[i].input_prompt_number == nbb_cell_id) {\n",
       "                        if (nbb_cells[i].get_text() == nbb_unformatted_code) {\n",
       "                             nbb_cells[i].set_text(nbb_formatted_code);\n",
       "                        }\n",
       "                        break;\n",
       "                    }\n",
       "                }\n",
       "            }, 500);\n",
       "            "
      ],
      "text/plain": [
       "<IPython.core.display.Javascript object>"
      ]
     },
     "metadata": {},
     "output_type": "display_data"
    }
   ],
   "source": [
    "tv_anime_less_ep = tv_anime[tv_anime[\"one_season\"] == \"less\"]\n",
    "tv_anime_more_ep = tv_anime[tv_anime[\"one_season\"] == \"more\"]"
   ]
  },
  {
   "cell_type": "code",
   "execution_count": 51,
   "metadata": {
    "scrolled": false
   },
   "outputs": [
    {
     "data": {
      "image/png": "[encoded data removed]",
      "text/plain": [
       "<Figure size 454.625x360 with 1 Axes>"
      ]
     },
     "metadata": {
      "needs_background": "light"
     },
     "output_type": "display_data"
    },
    {
     "data": {
      "application/javascript": [
       "\n",
       "            setTimeout(function() {\n",
       "                var nbb_cell_id = 51;\n",
       "                var nbb_unformatted_code = \"sns.relplot(x=\\\"episodes\\\", y=\\\"rating\\\", hue=\\\"one_season\\\", data=tv_anime)\\n# plt.figure(figsize=(16, 6))\\nplt.show()\";\n",
       "                var nbb_formatted_code = \"sns.relplot(x=\\\"episodes\\\", y=\\\"rating\\\", hue=\\\"one_season\\\", data=tv_anime)\\n# plt.figure(figsize=(16, 6))\\nplt.show()\";\n",
       "                var nbb_cells = Jupyter.notebook.get_cells();\n",
       "                for (var i = 0; i < nbb_cells.length; ++i) {\n",
       "                    if (nbb_cells[i].input_prompt_number == nbb_cell_id) {\n",
       "                        if (nbb_cells[i].get_text() == nbb_unformatted_code) {\n",
       "                             nbb_cells[i].set_text(nbb_formatted_code);\n",
       "                        }\n",
       "                        break;\n",
       "                    }\n",
       "                }\n",
       "            }, 500);\n",
       "            "
      ],
      "text/plain": [
       "<IPython.core.display.Javascript object>"
      ]
     },
     "metadata": {},
     "output_type": "display_data"
    }
   ],
   "source": [
    "sns.relplot(x=\"episodes\", y=\"rating\", hue=\"one_season\", data=tv_anime)\n",
    "# plt.figure(figsize=(16, 6))\n",
    "plt.show()"
   ]
  },
  {
   "cell_type": "code",
   "execution_count": 52,
   "metadata": {
    "scrolled": false
   },
   "outputs": [
    {
     "data": {
      "text/plain": [
       "<seaborn.axisgrid.FacetGrid at 0x15f7e5caf98>"
      ]
     },
     "execution_count": 52,
     "metadata": {},
     "output_type": "execute_result"
    },
    {
     "data": {
      "image/png": "[encoded data removed]",
      "text/plain": [
       "<Figure size 360x360 with 1 Axes>"
      ]
     },
     "metadata": {
      "needs_background": "light"
     },
     "output_type": "display_data"
    },
    {
     "data": {
      "application/javascript": [
       "\n",
       "            setTimeout(function() {\n",
       "                var nbb_cell_id = 52;\n",
       "                var nbb_unformatted_code = \"# Do animes with higher rating also have more fans?\\n# We can look at a scatter plot of anime group members vs the animes rating\\nsns.relplot(x=\\\"members\\\", y=\\\"rating\\\", data=tv_anime)\";\n",
       "                var nbb_formatted_code = \"# Do animes with higher rating also have more fans?\\n# We can look at a scatter plot of anime group members vs the animes rating\\nsns.relplot(x=\\\"members\\\", y=\\\"rating\\\", data=tv_anime)\";\n",
       "                var nbb_cells = Jupyter.notebook.get_cells();\n",
       "                for (var i = 0; i < nbb_cells.length; ++i) {\n",
       "                    if (nbb_cells[i].input_prompt_number == nbb_cell_id) {\n",
       "                        if (nbb_cells[i].get_text() == nbb_unformatted_code) {\n",
       "                             nbb_cells[i].set_text(nbb_formatted_code);\n",
       "                        }\n",
       "                        break;\n",
       "                    }\n",
       "                }\n",
       "            }, 500);\n",
       "            "
      ],
      "text/plain": [
       "<IPython.core.display.Javascript object>"
      ]
     },
     "metadata": {},
     "output_type": "display_data"
    }
   ],
   "source": [
    "# Do animes with higher rating also have more fans?\n",
    "# We can look at a scatter plot of anime group members vs the animes rating\n",
    "sns.relplot(x=\"members\", y=\"rating\", data=tv_anime)"
   ]
  },
  {
   "cell_type": "code",
   "execution_count": 53,
   "metadata": {
    "scrolled": true
   },
   "outputs": [
    {
     "data": {
      "image/png": "[encoded data removed]",
      "text/plain": [
       "<Figure size 432x288 with 1 Axes>"
      ]
     },
     "metadata": {
      "needs_background": "light"
     },
     "output_type": "display_data"
    },
    {
     "data": {
      "application/javascript": [
       "\n",
       "            setTimeout(function() {\n",
       "                var nbb_cell_id = 53;\n",
       "                var nbb_unformatted_code = \"sns.boxplot(x=\\\"one_season\\\", y=\\\"rating\\\", data=tv_anime)\\nplt.show()\";\n",
       "                var nbb_formatted_code = \"sns.boxplot(x=\\\"one_season\\\", y=\\\"rating\\\", data=tv_anime)\\nplt.show()\";\n",
       "                var nbb_cells = Jupyter.notebook.get_cells();\n",
       "                for (var i = 0; i < nbb_cells.length; ++i) {\n",
       "                    if (nbb_cells[i].input_prompt_number == nbb_cell_id) {\n",
       "                        if (nbb_cells[i].get_text() == nbb_unformatted_code) {\n",
       "                             nbb_cells[i].set_text(nbb_formatted_code);\n",
       "                        }\n",
       "                        break;\n",
       "                    }\n",
       "                }\n",
       "            }, 500);\n",
       "            "
      ],
      "text/plain": [
       "<IPython.core.display.Javascript object>"
      ]
     },
     "metadata": {},
     "output_type": "display_data"
    }
   ],
   "source": [
    "sns.boxplot(x=\"one_season\", y=\"rating\", data=tv_anime)\n",
    "plt.show()"
   ]
  },
  {
   "cell_type": "code",
   "execution_count": 54,
   "metadata": {},
   "outputs": [
    {
     "data": {
      "image/png": "[encoded data removed]",
      "text/plain": [
       "<Figure size 432x288 with 1 Axes>"
      ]
     },
     "metadata": {
      "needs_background": "light"
     },
     "output_type": "display_data"
    },
    {
     "data": {
      "application/javascript": [
       "\n",
       "            setTimeout(function() {\n",
       "                var nbb_cell_id = 54;\n",
       "                var nbb_unformatted_code = \"sns.violinplot(x=\\\"one_season\\\", y=\\\"rating\\\", data=tv_anime)\\nplt.show()\";\n",
       "                var nbb_formatted_code = \"sns.violinplot(x=\\\"one_season\\\", y=\\\"rating\\\", data=tv_anime)\\nplt.show()\";\n",
       "                var nbb_cells = Jupyter.notebook.get_cells();\n",
       "                for (var i = 0; i < nbb_cells.length; ++i) {\n",
       "                    if (nbb_cells[i].input_prompt_number == nbb_cell_id) {\n",
       "                        if (nbb_cells[i].get_text() == nbb_unformatted_code) {\n",
       "                             nbb_cells[i].set_text(nbb_formatted_code);\n",
       "                        }\n",
       "                        break;\n",
       "                    }\n",
       "                }\n",
       "            }, 500);\n",
       "            "
      ],
      "text/plain": [
       "<IPython.core.display.Javascript object>"
      ]
     },
     "metadata": {},
     "output_type": "display_data"
    }
   ],
   "source": [
    "sns.violinplot(x=\"one_season\", y=\"rating\", data=tv_anime)\n",
    "plt.show()"
   ]
  },
  {
   "cell_type": "code",
   "execution_count": 55,
   "metadata": {},
   "outputs": [
    {
     "data": {
      "image/png": "[encoded data removed]",
      "text/plain": [
       "<Figure size 432x288 with 1 Axes>"
      ]
     },
     "metadata": {
      "needs_background": "light"
     },
     "output_type": "display_data"
    },
    {
     "data": {
      "application/javascript": [
       "\n",
       "            setTimeout(function() {\n",
       "                var nbb_cell_id = 55;\n",
       "                var nbb_unformatted_code = \"less_mean = tv_anime_less_ep[\\\"rating\\\"].mean()\\nmore_mean = tv_anime_more_ep[\\\"rating\\\"].mean()\\nplt.hist(tv_anime_less_ep[\\\"rating\\\"], label=\\\"Less/Equal One Season\\\", alpha=0.5)\\nplt.hist(tv_anime_more_ep[\\\"rating\\\"], label=\\\"More Than One Season\\\", alpha=0.5)\\nless_mean_line = plt.axvline(less_mean, color=\\\"b\\\", linestyle=\\\"dashed\\\", linewidth=1)\\nmore_mean_line = plt.axvline(more_mean, color=\\\"r\\\", linestyle=\\\"dashed\\\", linewidth=1)\\nplt.legend(\\n    (\\n        less_mean_line,\\n        more_mean_line,\\n    ),\\n    (\\\"less_mean\\\", \\\"more_mean\\\"),\\n)\\nplt.show()\\n\\n\\n# plt.axvline(x.mean(), color='k', linestyle='dashed', linewidth=1)\";\n",
       "                var nbb_formatted_code = \"less_mean = tv_anime_less_ep[\\\"rating\\\"].mean()\\nmore_mean = tv_anime_more_ep[\\\"rating\\\"].mean()\\nplt.hist(tv_anime_less_ep[\\\"rating\\\"], label=\\\"Less/Equal One Season\\\", alpha=0.5)\\nplt.hist(tv_anime_more_ep[\\\"rating\\\"], label=\\\"More Than One Season\\\", alpha=0.5)\\nless_mean_line = plt.axvline(less_mean, color=\\\"b\\\", linestyle=\\\"dashed\\\", linewidth=1)\\nmore_mean_line = plt.axvline(more_mean, color=\\\"r\\\", linestyle=\\\"dashed\\\", linewidth=1)\\nplt.legend(\\n    (\\n        less_mean_line,\\n        more_mean_line,\\n    ),\\n    (\\\"less_mean\\\", \\\"more_mean\\\"),\\n)\\nplt.show()\\n\\n\\n# plt.axvline(x.mean(), color='k', linestyle='dashed', linewidth=1)\";\n",
       "                var nbb_cells = Jupyter.notebook.get_cells();\n",
       "                for (var i = 0; i < nbb_cells.length; ++i) {\n",
       "                    if (nbb_cells[i].input_prompt_number == nbb_cell_id) {\n",
       "                        if (nbb_cells[i].get_text() == nbb_unformatted_code) {\n",
       "                             nbb_cells[i].set_text(nbb_formatted_code);\n",
       "                        }\n",
       "                        break;\n",
       "                    }\n",
       "                }\n",
       "            }, 500);\n",
       "            "
      ],
      "text/plain": [
       "<IPython.core.display.Javascript object>"
      ]
     },
     "metadata": {},
     "output_type": "display_data"
    }
   ],
   "source": [
    "less_mean = tv_anime_less_ep[\"rating\"].mean()\n",
    "more_mean = tv_anime_more_ep[\"rating\"].mean()\n",
    "plt.hist(tv_anime_less_ep[\"rating\"], label=\"Less/Equal One Season\", alpha=0.5)\n",
    "plt.hist(tv_anime_more_ep[\"rating\"], label=\"More Than One Season\", alpha=0.5)\n",
    "less_mean_line = plt.axvline(less_mean, color=\"b\", linestyle=\"dashed\", linewidth=1)\n",
    "more_mean_line = plt.axvline(more_mean, color=\"r\", linestyle=\"dashed\", linewidth=1)\n",
    "plt.legend(\n",
    "    (\n",
    "        less_mean_line,\n",
    "        more_mean_line,\n",
    "    ),\n",
    "    (\"less_mean\", \"more_mean\"),\n",
    ")\n",
    "plt.show()\n",
    "\n",
    "\n",
    "# plt.axvline(x.mean(), color='k', linestyle='dashed', linewidth=1)"
   ]
  },
  {
   "cell_type": "code",
   "execution_count": 56,
   "metadata": {
    "scrolled": true
   },
   "outputs": [
    {
     "data": {
      "image/png": "[encoded data removed]",
      "text/plain": [
       "<Figure size 432x288 with 1 Axes>"
      ]
     },
     "metadata": {
      "needs_background": "light"
     },
     "output_type": "display_data"
    },
    {
     "data": {
      "application/javascript": [
       "\n",
       "            setTimeout(function() {\n",
       "                var nbb_cell_id = 56;\n",
       "                var nbb_unformatted_code = \"qqplot(tv_anime_less_ep[\\\"rating\\\"], line=\\\"s\\\")\\nplt.show()\";\n",
       "                var nbb_formatted_code = \"qqplot(tv_anime_less_ep[\\\"rating\\\"], line=\\\"s\\\")\\nplt.show()\";\n",
       "                var nbb_cells = Jupyter.notebook.get_cells();\n",
       "                for (var i = 0; i < nbb_cells.length; ++i) {\n",
       "                    if (nbb_cells[i].input_prompt_number == nbb_cell_id) {\n",
       "                        if (nbb_cells[i].get_text() == nbb_unformatted_code) {\n",
       "                             nbb_cells[i].set_text(nbb_formatted_code);\n",
       "                        }\n",
       "                        break;\n",
       "                    }\n",
       "                }\n",
       "            }, 500);\n",
       "            "
      ],
      "text/plain": [
       "<IPython.core.display.Javascript object>"
      ]
     },
     "metadata": {},
     "output_type": "display_data"
    }
   ],
   "source": [
    "qqplot(tv_anime_less_ep[\"rating\"], line=\"s\")\n",
    "plt.show()"
   ]
  },
  {
   "cell_type": "code",
   "execution_count": 57,
   "metadata": {},
   "outputs": [
    {
     "data": {
      "image/png": "[encoded data removed]",
      "text/plain": [
       "<Figure size 432x288 with 1 Axes>"
      ]
     },
     "metadata": {
      "needs_background": "light"
     },
     "output_type": "display_data"
    },
    {
     "data": {
      "application/javascript": [
       "\n",
       "            setTimeout(function() {\n",
       "                var nbb_cell_id = 57;\n",
       "                var nbb_unformatted_code = \"qqplot(tv_anime_more_ep[\\\"rating\\\"], line=\\\"s\\\")\\nplt.show()\";\n",
       "                var nbb_formatted_code = \"qqplot(tv_anime_more_ep[\\\"rating\\\"], line=\\\"s\\\")\\nplt.show()\";\n",
       "                var nbb_cells = Jupyter.notebook.get_cells();\n",
       "                for (var i = 0; i < nbb_cells.length; ++i) {\n",
       "                    if (nbb_cells[i].input_prompt_number == nbb_cell_id) {\n",
       "                        if (nbb_cells[i].get_text() == nbb_unformatted_code) {\n",
       "                             nbb_cells[i].set_text(nbb_formatted_code);\n",
       "                        }\n",
       "                        break;\n",
       "                    }\n",
       "                }\n",
       "            }, 500);\n",
       "            "
      ],
      "text/plain": [
       "<IPython.core.display.Javascript object>"
      ]
     },
     "metadata": {},
     "output_type": "display_data"
    }
   ],
   "source": [
    "qqplot(tv_anime_more_ep[\"rating\"], line=\"s\")\n",
    "plt.show()"
   ]
  },
  {
   "cell_type": "code",
   "execution_count": 58,
   "metadata": {},
   "outputs": [
    {
     "data": {
      "text/plain": [
       "DescribeResult(nobs=2125, minmax=(3.25, 9.17), mean=7.095392941176471, variance=0.5743561190650271, skewness=-0.38153622825464123, kurtosis=0.7856711876838198)"
      ]
     },
     "execution_count": 58,
     "metadata": {},
     "output_type": "execute_result"
    },
    {
     "data": {
      "application/javascript": [
       "\n",
       "            setTimeout(function() {\n",
       "                var nbb_cell_id = 58;\n",
       "                var nbb_unformatted_code = \"stats.describe(tv_anime_less_ep[\\\"rating\\\"])\";\n",
       "                var nbb_formatted_code = \"stats.describe(tv_anime_less_ep[\\\"rating\\\"])\";\n",
       "                var nbb_cells = Jupyter.notebook.get_cells();\n",
       "                for (var i = 0; i < nbb_cells.length; ++i) {\n",
       "                    if (nbb_cells[i].input_prompt_number == nbb_cell_id) {\n",
       "                        if (nbb_cells[i].get_text() == nbb_unformatted_code) {\n",
       "                             nbb_cells[i].set_text(nbb_formatted_code);\n",
       "                        }\n",
       "                        break;\n",
       "                    }\n",
       "                }\n",
       "            }, 500);\n",
       "            "
      ],
      "text/plain": [
       "<IPython.core.display.Javascript object>"
      ]
     },
     "metadata": {},
     "output_type": "display_data"
    }
   ],
   "source": [
    "stats.describe(tv_anime_less_ep[\"rating\"])"
   ]
  },
  {
   "cell_type": "code",
   "execution_count": 59,
   "metadata": {},
   "outputs": [
    {
     "data": {
      "text/plain": [
       "DescribeResult(nobs=830, minmax=(4.53, 9.26), mean=7.098951807228916, variance=0.3779867166131353, skewness=0.3846050449433052, kurtosis=0.6674010861771693)"
      ]
     },
     "execution_count": 59,
     "metadata": {},
     "output_type": "execute_result"
    },
    {
     "data": {
      "application/javascript": [
       "\n",
       "            setTimeout(function() {\n",
       "                var nbb_cell_id = 59;\n",
       "                var nbb_unformatted_code = \"stats.describe(tv_anime_more_ep[\\\"rating\\\"])\";\n",
       "                var nbb_formatted_code = \"stats.describe(tv_anime_more_ep[\\\"rating\\\"])\";\n",
       "                var nbb_cells = Jupyter.notebook.get_cells();\n",
       "                for (var i = 0; i < nbb_cells.length; ++i) {\n",
       "                    if (nbb_cells[i].input_prompt_number == nbb_cell_id) {\n",
       "                        if (nbb_cells[i].get_text() == nbb_unformatted_code) {\n",
       "                             nbb_cells[i].set_text(nbb_formatted_code);\n",
       "                        }\n",
       "                        break;\n",
       "                    }\n",
       "                }\n",
       "            }, 500);\n",
       "            "
      ],
      "text/plain": [
       "<IPython.core.display.Javascript object>"
      ]
     },
     "metadata": {},
     "output_type": "display_data"
    }
   ],
   "source": [
    "stats.describe(tv_anime_more_ep[\"rating\"])"
   ]
  },
  {
   "cell_type": "code",
   "execution_count": 60,
   "metadata": {},
   "outputs": [
    {
     "name": "stdout",
     "output_type": "stream",
     "text": [
      "<class 'pandas.core.frame.DataFrame'>\n",
      "Int64Index: 2125 entries, 3 to 10874\n",
      "Data columns (total 8 columns):\n",
      " #   Column      Non-Null Count  Dtype  \n",
      "---  ------      --------------  -----  \n",
      " 0   anime_id    2125 non-null   int64  \n",
      " 1   name        2125 non-null   object \n",
      " 2   genre       2124 non-null   object \n",
      " 3   type        2125 non-null   object \n",
      " 4   episodes    2125 non-null   int32  \n",
      " 5   rating      2125 non-null   float64\n",
      " 6   members     2125 non-null   int64  \n",
      " 7   one_season  2125 non-null   object \n",
      "dtypes: float64(1), int32(1), int64(2), object(4)\n",
      "memory usage: 141.1+ KB\n"
     ]
    },
    {
     "data": {
      "application/javascript": [
       "\n",
       "            setTimeout(function() {\n",
       "                var nbb_cell_id = 60;\n",
       "                var nbb_unformatted_code = \"tv_anime_less_ep.info()\";\n",
       "                var nbb_formatted_code = \"tv_anime_less_ep.info()\";\n",
       "                var nbb_cells = Jupyter.notebook.get_cells();\n",
       "                for (var i = 0; i < nbb_cells.length; ++i) {\n",
       "                    if (nbb_cells[i].input_prompt_number == nbb_cell_id) {\n",
       "                        if (nbb_cells[i].get_text() == nbb_unformatted_code) {\n",
       "                             nbb_cells[i].set_text(nbb_formatted_code);\n",
       "                        }\n",
       "                        break;\n",
       "                    }\n",
       "                }\n",
       "            }, 500);\n",
       "            "
      ],
      "text/plain": [
       "<IPython.core.display.Javascript object>"
      ]
     },
     "metadata": {},
     "output_type": "display_data"
    }
   ],
   "source": [
    "tv_anime_less_ep.info()"
   ]
  },
  {
   "cell_type": "code",
   "execution_count": 61,
   "metadata": {},
   "outputs": [
    {
     "name": "stdout",
     "output_type": "stream",
     "text": [
      "<class 'pandas.core.frame.DataFrame'>\n",
      "Int64Index: 830 entries, 1 to 10747\n",
      "Data columns (total 8 columns):\n",
      " #   Column      Non-Null Count  Dtype  \n",
      "---  ------      --------------  -----  \n",
      " 0   anime_id    830 non-null    int64  \n",
      " 1   name        830 non-null    object \n",
      " 2   genre       830 non-null    object \n",
      " 3   type        830 non-null    object \n",
      " 4   episodes    830 non-null    int32  \n",
      " 5   rating      830 non-null    float64\n",
      " 6   members     830 non-null    int64  \n",
      " 7   one_season  830 non-null    object \n",
      "dtypes: float64(1), int32(1), int64(2), object(4)\n",
      "memory usage: 55.1+ KB\n"
     ]
    },
    {
     "data": {
      "application/javascript": [
       "\n",
       "            setTimeout(function() {\n",
       "                var nbb_cell_id = 61;\n",
       "                var nbb_unformatted_code = \"tv_anime_more_ep.info()\";\n",
       "                var nbb_formatted_code = \"tv_anime_more_ep.info()\";\n",
       "                var nbb_cells = Jupyter.notebook.get_cells();\n",
       "                for (var i = 0; i < nbb_cells.length; ++i) {\n",
       "                    if (nbb_cells[i].input_prompt_number == nbb_cell_id) {\n",
       "                        if (nbb_cells[i].get_text() == nbb_unformatted_code) {\n",
       "                             nbb_cells[i].set_text(nbb_formatted_code);\n",
       "                        }\n",
       "                        break;\n",
       "                    }\n",
       "                }\n",
       "            }, 500);\n",
       "            "
      ],
      "text/plain": [
       "<IPython.core.display.Javascript object>"
      ]
     },
     "metadata": {},
     "output_type": "display_data"
    }
   ],
   "source": [
    "tv_anime_more_ep.info()"
   ]
  },
  {
   "cell_type": "code",
   "execution_count": 62,
   "metadata": {},
   "outputs": [
    {
     "data": {
      "text/plain": [
       "NormaltestResult(statistic=78.8853759957134, pvalue=7.41751188917372e-18)"
      ]
     },
     "execution_count": 62,
     "metadata": {},
     "output_type": "execute_result"
    },
    {
     "data": {
      "application/javascript": [
       "\n",
       "            setTimeout(function() {\n",
       "                var nbb_cell_id = 62;\n",
       "                var nbb_unformatted_code = \"stats.normaltest(tv_anime_less_ep[\\\"rating\\\"])\";\n",
       "                var nbb_formatted_code = \"stats.normaltest(tv_anime_less_ep[\\\"rating\\\"])\";\n",
       "                var nbb_cells = Jupyter.notebook.get_cells();\n",
       "                for (var i = 0; i < nbb_cells.length; ++i) {\n",
       "                    if (nbb_cells[i].input_prompt_number == nbb_cell_id) {\n",
       "                        if (nbb_cells[i].get_text() == nbb_unformatted_code) {\n",
       "                             nbb_cells[i].set_text(nbb_formatted_code);\n",
       "                        }\n",
       "                        break;\n",
       "                    }\n",
       "                }\n",
       "            }, 500);\n",
       "            "
      ],
      "text/plain": [
       "<IPython.core.display.Javascript object>"
      ]
     },
     "metadata": {},
     "output_type": "display_data"
    }
   ],
   "source": [
    "stats.normaltest(tv_anime_less_ep[\"rating\"])"
   ]
  },
  {
   "cell_type": "code",
   "execution_count": 63,
   "metadata": {},
   "outputs": [
    {
     "data": {
      "text/plain": [
       "NormaltestResult(statistic=29.44685840167957, pvalue=4.0336289317734376e-07)"
      ]
     },
     "execution_count": 63,
     "metadata": {},
     "output_type": "execute_result"
    },
    {
     "data": {
      "application/javascript": [
       "\n",
       "            setTimeout(function() {\n",
       "                var nbb_cell_id = 63;\n",
       "                var nbb_unformatted_code = \"stats.normaltest(tv_anime_more_ep[\\\"rating\\\"])\";\n",
       "                var nbb_formatted_code = \"stats.normaltest(tv_anime_more_ep[\\\"rating\\\"])\";\n",
       "                var nbb_cells = Jupyter.notebook.get_cells();\n",
       "                for (var i = 0; i < nbb_cells.length; ++i) {\n",
       "                    if (nbb_cells[i].input_prompt_number == nbb_cell_id) {\n",
       "                        if (nbb_cells[i].get_text() == nbb_unformatted_code) {\n",
       "                             nbb_cells[i].set_text(nbb_formatted_code);\n",
       "                        }\n",
       "                        break;\n",
       "                    }\n",
       "                }\n",
       "            }, 500);\n",
       "            "
      ],
      "text/plain": [
       "<IPython.core.display.Javascript object>"
      ]
     },
     "metadata": {},
     "output_type": "display_data"
    }
   ],
   "source": [
    "stats.normaltest(tv_anime_more_ep[\"rating\"])"
   ]
  },
  {
   "cell_type": "code",
   "execution_count": 64,
   "metadata": {},
   "outputs": [
    {
     "name": "stdout",
     "output_type": "stream",
     "text": [
      "Shapirio Wilk test results (W, p-value) for one_or_less: (0.9903903007507324, 1.1187201165441252e-10)\n",
      "Shapirio Wilk test results (W, p-value) for more_than_one: (0.9830493330955505, 3.226797318234276e-08)\n"
     ]
    },
    {
     "data": {
      "application/javascript": [
       "\n",
       "            setTimeout(function() {\n",
       "                var nbb_cell_id = 64;\n",
       "                var nbb_unformatted_code = \"# Shapirio wilk\\none_or_less = stats.shapiro(tv_anime_less_ep[\\\"rating\\\"])\\nmore_than_one = stats.shapiro(tv_anime_more_ep[\\\"rating\\\"])\\nprint(\\n    f\\\"Shapirio Wilk test results (W, p-value) for one_or_less: {one_or_less}\\\\nShapirio Wilk test results (W, p-value) for more_than_one: {more_than_one}\\\"\\n)\";\n",
       "                var nbb_formatted_code = \"# Shapirio wilk\\none_or_less = stats.shapiro(tv_anime_less_ep[\\\"rating\\\"])\\nmore_than_one = stats.shapiro(tv_anime_more_ep[\\\"rating\\\"])\\nprint(\\n    f\\\"Shapirio Wilk test results (W, p-value) for one_or_less: {one_or_less}\\\\nShapirio Wilk test results (W, p-value) for more_than_one: {more_than_one}\\\"\\n)\";\n",
       "                var nbb_cells = Jupyter.notebook.get_cells();\n",
       "                for (var i = 0; i < nbb_cells.length; ++i) {\n",
       "                    if (nbb_cells[i].input_prompt_number == nbb_cell_id) {\n",
       "                        if (nbb_cells[i].get_text() == nbb_unformatted_code) {\n",
       "                             nbb_cells[i].set_text(nbb_formatted_code);\n",
       "                        }\n",
       "                        break;\n",
       "                    }\n",
       "                }\n",
       "            }, 500);\n",
       "            "
      ],
      "text/plain": [
       "<IPython.core.display.Javascript object>"
      ]
     },
     "metadata": {},
     "output_type": "display_data"
    }
   ],
   "source": [
    "# Shapirio wilk\n",
    "one_or_less = stats.shapiro(tv_anime_less_ep[\"rating\"])\n",
    "more_than_one = stats.shapiro(tv_anime_more_ep[\"rating\"])\n",
    "print(\n",
    "    f\"Shapirio Wilk test results (W, p-value) for one_or_less: {one_or_less}\\nShapirio Wilk test results (W, p-value) for more_than_one: {more_than_one}\"\n",
    ")"
   ]
  },
  {
   "cell_type": "markdown",
   "metadata": {},
   "source": [
    "W is close to 1, but each p-value is far less than 0.05 It appears neither are normally distributed."
   ]
  },
  {
   "cell_type": "code",
   "execution_count": 65,
   "metadata": {},
   "outputs": [
    {
     "name": "stdout",
     "output_type": "stream",
     "text": [
      "Variance of sample with one season or less: 0.57\n",
      "Variance of sample with more than one season: 0.38\n"
     ]
    },
    {
     "data": {
      "application/javascript": [
       "\n",
       "            setTimeout(function() {\n",
       "                var nbb_cell_id = 65;\n",
       "                var nbb_unformatted_code = \"# Simple variance comparison\\nless_ep_var = round(tv_anime_less_ep[\\\"rating\\\"].var(), 2)\\nmore_ep_var = round(tv_anime_more_ep[\\\"rating\\\"].var(), 2)\\nprint(\\n    f\\\"Variance of sample with one season or less: {less_ep_var}\\\\nVariance of sample with more than one season: {more_ep_var}\\\"\\n)\";\n",
       "                var nbb_formatted_code = \"# Simple variance comparison\\nless_ep_var = round(tv_anime_less_ep[\\\"rating\\\"].var(), 2)\\nmore_ep_var = round(tv_anime_more_ep[\\\"rating\\\"].var(), 2)\\nprint(\\n    f\\\"Variance of sample with one season or less: {less_ep_var}\\\\nVariance of sample with more than one season: {more_ep_var}\\\"\\n)\";\n",
       "                var nbb_cells = Jupyter.notebook.get_cells();\n",
       "                for (var i = 0; i < nbb_cells.length; ++i) {\n",
       "                    if (nbb_cells[i].input_prompt_number == nbb_cell_id) {\n",
       "                        if (nbb_cells[i].get_text() == nbb_unformatted_code) {\n",
       "                             nbb_cells[i].set_text(nbb_formatted_code);\n",
       "                        }\n",
       "                        break;\n",
       "                    }\n",
       "                }\n",
       "            }, 500);\n",
       "            "
      ],
      "text/plain": [
       "<IPython.core.display.Javascript object>"
      ]
     },
     "metadata": {},
     "output_type": "display_data"
    }
   ],
   "source": [
    "# Simple variance comparison\n",
    "less_ep_var = round(tv_anime_less_ep[\"rating\"].var(), 2)\n",
    "more_ep_var = round(tv_anime_more_ep[\"rating\"].var(), 2)\n",
    "print(\n",
    "    f\"Variance of sample with one season or less: {less_ep_var}\\nVariance of sample with more than one season: {more_ep_var}\"\n",
    ")"
   ]
  },
  {
   "cell_type": "code",
   "execution_count": 66,
   "metadata": {},
   "outputs": [
    {
     "name": "stdout",
     "output_type": "stream",
     "text": [
      "test_stat = 48.85298103357306, p = 2.7588579024196723e-12.\n",
      "\n",
      "Hypothesis check - Reject that null hypothesis (the samples variances are equal): True\n"
     ]
    },
    {
     "data": {
      "application/javascript": [
       "\n",
       "            setTimeout(function() {\n",
       "                var nbb_cell_id = 66;\n",
       "                var nbb_unformatted_code = \"# Barttlet test of variance similarity\\n# Null: Variances are the same\\n# Alt: Variances are different\\ntest_stat, p = stats.bartlett(tv_anime_less_ep[\\\"rating\\\"], tv_anime_more_ep[\\\"rating\\\"])\\nprint(\\n    f\\\"test_stat = {test_stat}, p = {p}.\\\\n\\\\nHypothesis check - Reject that null hypothesis (the samples variances are equal): {p < 0.05}\\\"\\n)\";\n",
       "                var nbb_formatted_code = \"# Barttlet test of variance similarity\\n# Null: Variances are the same\\n# Alt: Variances are different\\ntest_stat, p = stats.bartlett(tv_anime_less_ep[\\\"rating\\\"], tv_anime_more_ep[\\\"rating\\\"])\\nprint(\\n    f\\\"test_stat = {test_stat}, p = {p}.\\\\n\\\\nHypothesis check - Reject that null hypothesis (the samples variances are equal): {p < 0.05}\\\"\\n)\";\n",
       "                var nbb_cells = Jupyter.notebook.get_cells();\n",
       "                for (var i = 0; i < nbb_cells.length; ++i) {\n",
       "                    if (nbb_cells[i].input_prompt_number == nbb_cell_id) {\n",
       "                        if (nbb_cells[i].get_text() == nbb_unformatted_code) {\n",
       "                             nbb_cells[i].set_text(nbb_formatted_code);\n",
       "                        }\n",
       "                        break;\n",
       "                    }\n",
       "                }\n",
       "            }, 500);\n",
       "            "
      ],
      "text/plain": [
       "<IPython.core.display.Javascript object>"
      ]
     },
     "metadata": {},
     "output_type": "display_data"
    }
   ],
   "source": [
    "# Barttlet test of variance similarity\n",
    "# Null: Variances are the same\n",
    "# Alt: Variances are different\n",
    "test_stat, p = stats.bartlett(tv_anime_less_ep[\"rating\"], tv_anime_more_ep[\"rating\"])\n",
    "print(\n",
    "    f\"test_stat = {test_stat}, p = {p}.\\n\\nHypothesis check - Reject that null hypothesis (the samples variances are equal): {p < 0.05}\"\n",
    ")"
   ]
  },
  {
   "cell_type": "markdown",
   "metadata": {},
   "source": [
    "Need to filter \"less\" group to reduce variance. Filter only what makes sense: small members value, or filter small between 12 - 26 eps for one season identification. Look closer at anime with ratings of 4.5 or less."
   ]
  },
  {
   "cell_type": "code",
   "execution_count": 67,
   "metadata": {},
   "outputs": [
    {
     "data": {
      "application/javascript": [
       "\n",
       "            setTimeout(function() {\n",
       "                var nbb_cell_id = 67;\n",
       "                var nbb_unformatted_code = \"t, p = stats.ttest_ind(tv_anime_less_ep[\\\"rating\\\"], tv_anime_more_ep[\\\"rating\\\"])\";\n",
       "                var nbb_formatted_code = \"t, p = stats.ttest_ind(tv_anime_less_ep[\\\"rating\\\"], tv_anime_more_ep[\\\"rating\\\"])\";\n",
       "                var nbb_cells = Jupyter.notebook.get_cells();\n",
       "                for (var i = 0; i < nbb_cells.length; ++i) {\n",
       "                    if (nbb_cells[i].input_prompt_number == nbb_cell_id) {\n",
       "                        if (nbb_cells[i].get_text() == nbb_unformatted_code) {\n",
       "                             nbb_cells[i].set_text(nbb_formatted_code);\n",
       "                        }\n",
       "                        break;\n",
       "                    }\n",
       "                }\n",
       "            }, 500);\n",
       "            "
      ],
      "text/plain": [
       "<IPython.core.display.Javascript object>"
      ]
     },
     "metadata": {},
     "output_type": "display_data"
    }
   ],
   "source": [
    "t, p = stats.ttest_ind(tv_anime_less_ep[\"rating\"], tv_anime_more_ep[\"rating\"])"
   ]
  },
  {
   "cell_type": "code",
   "execution_count": 68,
   "metadata": {},
   "outputs": [
    {
     "data": {
      "text/plain": [
       "-0.12066238962444704"
      ]
     },
     "execution_count": 68,
     "metadata": {},
     "output_type": "execute_result"
    },
    {
     "data": {
      "application/javascript": [
       "\n",
       "            setTimeout(function() {\n",
       "                var nbb_cell_id = 68;\n",
       "                var nbb_unformatted_code = \"t\";\n",
       "                var nbb_formatted_code = \"t\";\n",
       "                var nbb_cells = Jupyter.notebook.get_cells();\n",
       "                for (var i = 0; i < nbb_cells.length; ++i) {\n",
       "                    if (nbb_cells[i].input_prompt_number == nbb_cell_id) {\n",
       "                        if (nbb_cells[i].get_text() == nbb_unformatted_code) {\n",
       "                             nbb_cells[i].set_text(nbb_formatted_code);\n",
       "                        }\n",
       "                        break;\n",
       "                    }\n",
       "                }\n",
       "            }, 500);\n",
       "            "
      ],
      "text/plain": [
       "<IPython.core.display.Javascript object>"
      ]
     },
     "metadata": {},
     "output_type": "display_data"
    }
   ],
   "source": [
    "t"
   ]
  },
  {
   "cell_type": "code",
   "execution_count": 69,
   "metadata": {},
   "outputs": [
    {
     "data": {
      "text/plain": [
       "0.9039666589232512"
      ]
     },
     "execution_count": 69,
     "metadata": {},
     "output_type": "execute_result"
    },
    {
     "data": {
      "application/javascript": [
       "\n",
       "            setTimeout(function() {\n",
       "                var nbb_cell_id = 69;\n",
       "                var nbb_unformatted_code = \"p\";\n",
       "                var nbb_formatted_code = \"p\";\n",
       "                var nbb_cells = Jupyter.notebook.get_cells();\n",
       "                for (var i = 0; i < nbb_cells.length; ++i) {\n",
       "                    if (nbb_cells[i].input_prompt_number == nbb_cell_id) {\n",
       "                        if (nbb_cells[i].get_text() == nbb_unformatted_code) {\n",
       "                             nbb_cells[i].set_text(nbb_formatted_code);\n",
       "                        }\n",
       "                        break;\n",
       "                    }\n",
       "                }\n",
       "            }, 500);\n",
       "            "
      ],
      "text/plain": [
       "<IPython.core.display.Javascript object>"
      ]
     },
     "metadata": {},
     "output_type": "display_data"
    }
   ],
   "source": [
    "p"
   ]
  },
  {
   "cell_type": "code",
   "execution_count": 70,
   "metadata": {},
   "outputs": [
    {
     "data": {
      "text/plain": [
       "(-0.05635862192032662, 0.04924088981543698)"
      ]
     },
     "execution_count": 70,
     "metadata": {},
     "output_type": "execute_result"
    },
    {
     "data": {
      "application/javascript": [
       "\n",
       "            setTimeout(function() {\n",
       "                var nbb_cell_id = 70;\n",
       "                var nbb_unformatted_code = \"get_95_ci(tv_anime_less_ep[\\\"rating\\\"], tv_anime_more_ep[\\\"rating\\\"])\";\n",
       "                var nbb_formatted_code = \"get_95_ci(tv_anime_less_ep[\\\"rating\\\"], tv_anime_more_ep[\\\"rating\\\"])\";\n",
       "                var nbb_cells = Jupyter.notebook.get_cells();\n",
       "                for (var i = 0; i < nbb_cells.length; ++i) {\n",
       "                    if (nbb_cells[i].input_prompt_number == nbb_cell_id) {\n",
       "                        if (nbb_cells[i].get_text() == nbb_unformatted_code) {\n",
       "                             nbb_cells[i].set_text(nbb_formatted_code);\n",
       "                        }\n",
       "                        break;\n",
       "                    }\n",
       "                }\n",
       "            }, 500);\n",
       "            "
      ],
      "text/plain": [
       "<IPython.core.display.Javascript object>"
      ]
     },
     "metadata": {},
     "output_type": "display_data"
    }
   ],
   "source": [
    "get_95_ci(tv_anime_less_ep[\"rating\"], tv_anime_more_ep[\"rating\"])"
   ]
  },
  {
   "cell_type": "markdown",
   "metadata": {},
   "source": [
    "could use transformation log or box cox, try normal tests on this data. Else go with man whitny u or kurskil wallis tests"
   ]
  },
  {
   "cell_type": "code",
   "execution_count": 71,
   "metadata": {},
   "outputs": [
    {
     "data": {
      "text/plain": [
       "0.19161593494906837"
      ]
     },
     "execution_count": 71,
     "metadata": {},
     "output_type": "execute_result"
    },
    {
     "data": {
      "application/javascript": [
       "\n",
       "            setTimeout(function() {\n",
       "                var nbb_cell_id = 71;\n",
       "                var nbb_unformatted_code = \"_, p = stats.kruskal(tv_anime_less_ep[\\\"rating\\\"], tv_anime_more_ep[\\\"rating\\\"])\\np\";\n",
       "                var nbb_formatted_code = \"_, p = stats.kruskal(tv_anime_less_ep[\\\"rating\\\"], tv_anime_more_ep[\\\"rating\\\"])\\np\";\n",
       "                var nbb_cells = Jupyter.notebook.get_cells();\n",
       "                for (var i = 0; i < nbb_cells.length; ++i) {\n",
       "                    if (nbb_cells[i].input_prompt_number == nbb_cell_id) {\n",
       "                        if (nbb_cells[i].get_text() == nbb_unformatted_code) {\n",
       "                             nbb_cells[i].set_text(nbb_formatted_code);\n",
       "                        }\n",
       "                        break;\n",
       "                    }\n",
       "                }\n",
       "            }, 500);\n",
       "            "
      ],
      "text/plain": [
       "<IPython.core.display.Javascript object>"
      ]
     },
     "metadata": {},
     "output_type": "display_data"
    }
   ],
   "source": [
    "_, p = stats.kruskal(tv_anime_less_ep[\"rating\"], tv_anime_more_ep[\"rating\"])\n",
    "p"
   ]
  },
  {
   "cell_type": "markdown",
   "metadata": {},
   "source": [
    "Other non-parametric tests - Wilcoxon rank sum, man whitney u, spearman correlation, "
   ]
  },
  {
   "cell_type": "code",
   "execution_count": 72,
   "metadata": {},
   "outputs": [
    {
     "data": {
      "text/plain": [
       "0.09581204731705423"
      ]
     },
     "execution_count": 72,
     "metadata": {},
     "output_type": "execute_result"
    },
    {
     "data": {
      "application/javascript": [
       "\n",
       "            setTimeout(function() {\n",
       "                var nbb_cell_id = 72;\n",
       "                var nbb_unformatted_code = \"_, p = stats.mannwhitneyu(tv_anime_less_ep[\\\"rating\\\"], tv_anime_more_ep[\\\"rating\\\"])\\np\";\n",
       "                var nbb_formatted_code = \"_, p = stats.mannwhitneyu(tv_anime_less_ep[\\\"rating\\\"], tv_anime_more_ep[\\\"rating\\\"])\\np\";\n",
       "                var nbb_cells = Jupyter.notebook.get_cells();\n",
       "                for (var i = 0; i < nbb_cells.length; ++i) {\n",
       "                    if (nbb_cells[i].input_prompt_number == nbb_cell_id) {\n",
       "                        if (nbb_cells[i].get_text() == nbb_unformatted_code) {\n",
       "                             nbb_cells[i].set_text(nbb_formatted_code);\n",
       "                        }\n",
       "                        break;\n",
       "                    }\n",
       "                }\n",
       "            }, 500);\n",
       "            "
      ],
      "text/plain": [
       "<IPython.core.display.Javascript object>"
      ]
     },
     "metadata": {},
     "output_type": "display_data"
    }
   ],
   "source": [
    "_, p = stats.mannwhitneyu(tv_anime_less_ep[\"rating\"], tv_anime_more_ep[\"rating\"])\n",
    "p"
   ]
  },
  {
   "cell_type": "code",
   "execution_count": 73,
   "metadata": {},
   "outputs": [
    {
     "data": {
      "application/javascript": [
       "\n",
       "            setTimeout(function() {\n",
       "                var nbb_cell_id = 73;\n",
       "                var nbb_unformatted_code = \"# reject_h0, _, _, _ = multipletests(\\n#     [tv_anime_less_ep[\\\"rating\\\"], tv_anime_more_ep[\\\"rating\\\"]]\\n# )\\n# reject_h0\";\n",
       "                var nbb_formatted_code = \"# reject_h0, _, _, _ = multipletests(\\n#     [tv_anime_less_ep[\\\"rating\\\"], tv_anime_more_ep[\\\"rating\\\"]]\\n# )\\n# reject_h0\";\n",
       "                var nbb_cells = Jupyter.notebook.get_cells();\n",
       "                for (var i = 0; i < nbb_cells.length; ++i) {\n",
       "                    if (nbb_cells[i].input_prompt_number == nbb_cell_id) {\n",
       "                        if (nbb_cells[i].get_text() == nbb_unformatted_code) {\n",
       "                             nbb_cells[i].set_text(nbb_formatted_code);\n",
       "                        }\n",
       "                        break;\n",
       "                    }\n",
       "                }\n",
       "            }, 500);\n",
       "            "
      ],
      "text/plain": [
       "<IPython.core.display.Javascript object>"
      ]
     },
     "metadata": {},
     "output_type": "display_data"
    }
   ],
   "source": [
    "# reject_h0, _, _, _ = multipletests(\n",
    "#     [tv_anime_less_ep[\"rating\"], tv_anime_more_ep[\"rating\"]]\n",
    "# )\n",
    "# reject_h0"
   ]
  },
  {
   "cell_type": "code",
   "execution_count": 74,
   "metadata": {},
   "outputs": [
    {
     "data": {
      "image/png": "[encoded data removed]",
      "text/plain": [
       "<Figure size 432x288 with 1 Axes>"
      ]
     },
     "metadata": {
      "needs_background": "light"
     },
     "output_type": "display_data"
    },
    {
     "data": {
      "text/plain": [
       "(0.020000000000000462, 0.15000000000000036)"
      ]
     },
     "execution_count": 74,
     "metadata": {},
     "output_type": "execute_result"
    },
    {
     "data": {
      "application/javascript": [
       "\n",
       "            setTimeout(function() {\n",
       "                var nbb_cell_id = 74;\n",
       "                var nbb_unformatted_code = \"median_diffs = []\\nfor i in range(10000):\\n    sample_1 = tv_anime_less_ep[\\\"rating\\\"].sample(frac=1.0, replace=True)\\n    sample_2 = tv_anime_more_ep[\\\"rating\\\"].sample(frac=1.0, replace=True)\\n\\n    median_diff = sample_1.median() - sample_2.median()\\n    median_diffs.append(median_diff)\\n\\n\\nplt.hist(median_diffs)\\nplt.show()\\n\\nci_lo = np.percentile(median_diffs, 2.5)\\nci_hi = np.percentile(median_diffs, 97.5)\\n\\nci_lo, ci_hi\";\n",
       "                var nbb_formatted_code = \"median_diffs = []\\nfor i in range(10000):\\n    sample_1 = tv_anime_less_ep[\\\"rating\\\"].sample(frac=1.0, replace=True)\\n    sample_2 = tv_anime_more_ep[\\\"rating\\\"].sample(frac=1.0, replace=True)\\n\\n    median_diff = sample_1.median() - sample_2.median()\\n    median_diffs.append(median_diff)\\n\\n\\nplt.hist(median_diffs)\\nplt.show()\\n\\nci_lo = np.percentile(median_diffs, 2.5)\\nci_hi = np.percentile(median_diffs, 97.5)\\n\\nci_lo, ci_hi\";\n",
       "                var nbb_cells = Jupyter.notebook.get_cells();\n",
       "                for (var i = 0; i < nbb_cells.length; ++i) {\n",
       "                    if (nbb_cells[i].input_prompt_number == nbb_cell_id) {\n",
       "                        if (nbb_cells[i].get_text() == nbb_unformatted_code) {\n",
       "                             nbb_cells[i].set_text(nbb_formatted_code);\n",
       "                        }\n",
       "                        break;\n",
       "                    }\n",
       "                }\n",
       "            }, 500);\n",
       "            "
      ],
      "text/plain": [
       "<IPython.core.display.Javascript object>"
      ]
     },
     "metadata": {},
     "output_type": "display_data"
    }
   ],
   "source": [
    "median_diffs = []\n",
    "for i in range(10000):\n",
    "    sample_1 = tv_anime_less_ep[\"rating\"].sample(frac=1.0, replace=True)\n",
    "    sample_2 = tv_anime_more_ep[\"rating\"].sample(frac=1.0, replace=True)\n",
    "\n",
    "    median_diff = sample_1.median() - sample_2.median()\n",
    "    median_diffs.append(median_diff)\n",
    "\n",
    "\n",
    "plt.hist(median_diffs)\n",
    "plt.show()\n",
    "\n",
    "ci_lo = np.percentile(median_diffs, 2.5)\n",
    "ci_hi = np.percentile(median_diffs, 97.5)\n",
    "\n",
    "ci_lo, ci_hi"
   ]
  },
  {
   "cell_type": "code",
   "execution_count": 46,
   "metadata": {},
   "outputs": [
    {
     "data": {
      "application/javascript": [
       "\n",
       "            setTimeout(function() {\n",
       "                var nbb_cell_id = 46;\n",
       "                var nbb_unformatted_code = \"# tv_anime_less_ep = tv_anime[tv_anime[\\\"one_season\\\"] == \\\"less\\\"]\\n# tv_anime_more_ep = tv_anime[tv_anime[\\\"one_season\\\"] == \\\"more\\\"]\";\n",
       "                var nbb_formatted_code = \"# tv_anime_less_ep = tv_anime[tv_anime[\\\"one_season\\\"] == \\\"less\\\"]\\n# tv_anime_more_ep = tv_anime[tv_anime[\\\"one_season\\\"] == \\\"more\\\"]\";\n",
       "                var nbb_cells = Jupyter.notebook.get_cells();\n",
       "                for (var i = 0; i < nbb_cells.length; ++i) {\n",
       "                    if (nbb_cells[i].input_prompt_number == nbb_cell_id) {\n",
       "                        if (nbb_cells[i].get_text() == nbb_unformatted_code) {\n",
       "                             nbb_cells[i].set_text(nbb_formatted_code);\n",
       "                        }\n",
       "                        break;\n",
       "                    }\n",
       "                }\n",
       "            }, 500);\n",
       "            "
      ],
      "text/plain": [
       "<IPython.core.display.Javascript object>"
      ]
     },
     "metadata": {},
     "output_type": "display_data"
    }
   ],
   "source": [
    "# tv_anime_less_ep = tv_anime[tv_anime[\"one_season\"] == \"less\"]\n",
    "# tv_anime_more_ep = tv_anime[tv_anime[\"one_season\"] == \"more\"]"
   ]
  },
  {
   "cell_type": "code",
   "execution_count": 47,
   "metadata": {},
   "outputs": [
    {
     "data": {
      "application/javascript": [
       "\n",
       "            setTimeout(function() {\n",
       "                var nbb_cell_id = 47;\n",
       "                var nbb_unformatted_code = \"# Calculate logarithm to\\n# base 10 on 'Salary' column\\n# data[\\\"logarithm_base10\\\"] = np.log10(data[\\\"Salary\\\"])\";\n",
       "                var nbb_formatted_code = \"# Calculate logarithm to\\n# base 10 on 'Salary' column\\n# data[\\\"logarithm_base10\\\"] = np.log10(data[\\\"Salary\\\"])\";\n",
       "                var nbb_cells = Jupyter.notebook.get_cells();\n",
       "                for (var i = 0; i < nbb_cells.length; ++i) {\n",
       "                    if (nbb_cells[i].input_prompt_number == nbb_cell_id) {\n",
       "                        if (nbb_cells[i].get_text() == nbb_unformatted_code) {\n",
       "                             nbb_cells[i].set_text(nbb_formatted_code);\n",
       "                        }\n",
       "                        break;\n",
       "                    }\n",
       "                }\n",
       "            }, 500);\n",
       "            "
      ],
      "text/plain": [
       "<IPython.core.display.Javascript object>"
      ]
     },
     "metadata": {},
     "output_type": "display_data"
    }
   ],
   "source": [
    "# Calculate logarithm to\n",
    "# base 10 on 'Salary' column\n",
    "# data[\"logarithm_base10\"] = np.log10(data[\"Salary\"])"
   ]
  },
  {
   "cell_type": "markdown",
   "metadata": {},
   "source": [
    "Considerations: how to consider anime containing the same name like Gintama° and Gintama&#039;\n",
    "wich both have similar data except for: anime_id, name, rating, and members. Also, for a more in-depth and insightful analysis one can talke a look at the non-numerical data: genre, type, members."
   ]
  }
 ],
 "metadata": {
  "kernelspec": {
   "display_name": "Python 3",
   "language": "python",
   "name": "python3"
  },
  "language_info": {
   "codemirror_mode": {
    "name": "ipython",
    "version": 3
   },
   "file_extension": ".py",
   "mimetype": "text/x-python",
   "name": "python",
   "nbconvert_exporter": "python",
   "pygments_lexer": "ipython3",
   "version": "3.7.3"
  }
 },
 "nbformat": 4,
 "nbformat_minor": 4
}
